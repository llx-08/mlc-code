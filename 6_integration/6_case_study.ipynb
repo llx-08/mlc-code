{
 "cells": [
  {
   "cell_type": "markdown",
   "metadata": {},
   "source": [
    "# 与机器学习框架的整合\n",
    "\n",
    "## 前言\n",
    "\n",
    "在过去的章节中，我们学习了机器学习编译的抽象和张量函数之间的变换。\n",
    "\n",
    "本章将讨论如何将机器学习模型从现有的机器学习框架引入 MLC 流程。\n",
    "\n",
    "## 准备工作\n",
    "\n",
    "首先，我们导入必要的依赖项。"
   ]
  },
  {
   "cell_type": "code",
   "execution_count": 5,
   "metadata": {},
   "outputs": [],
   "source": [
    "import tvm\n",
    "from tvm.ir.module import IRModule\n",
    "from tvm.script import tir as T, relax as R\n",
    "from tvm import relax\n",
    "import numpy as np\n",
    "\n",
    "# This is needed for deferring annotation parsing in TVMScript\n",
    "from __future__ import annotations\n",
    "import torch\n",
    "import torch.nn as nn\n",
    "from torch import fx\n",
    "from torch.nn import functional as F"
   ]
  },
  {
   "cell_type": "markdown",
   "metadata": {},
   "source": [
    "## 通过 Builder 构造 IRModule\n",
    "\n",
    "在过去的章节中，我们一直在通过直接编写 TVMScript 来构建 IRModule。 随着模型变得越来越大，我们需要一种编程方式来构建 IRModule。在本节中，我们回顾一些支持该过程的工具。\n",
    "\n",
    "### 从张量表达式构造 TensorIR\n",
    "- 编写TVMScript来构建TensorIR\n",
    "- 通过张良表达式构建\n",
    "\n",
    "首先，我们回顾张量表达式 (tensor expression, TE) 这一领域特定语言来构建 TensorIR 函数。"
   ]
  },
  {
   "cell_type": "code",
   "execution_count": 6,
   "metadata": {},
   "outputs": [],
   "source": [
    "from tvm import te"
   ]
  },
  {
   "cell_type": "markdown",
   "metadata": {},
   "source": [
    "我们首先创建一个 placeholder，它表示 TensorIR 函数的输入。"
   ]
  },
  {
   "cell_type": "code",
   "execution_count": 7,
   "metadata": {},
   "outputs": [],
   "source": [
    "A = te.placeholder((128, 128), name=\"A\", dtype=\"float32\")\n",
    "B = te.placeholder((128, 128), name=\"B\", dtype=\"float32\")"
   ]
  },
  {
   "cell_type": "markdown",
   "metadata": {},
   "source": [
    "这里的每个输入和中间结果都表示为一个 `te.Tensor` 对象。"
   ]
  },
  {
   "cell_type": "code",
   "execution_count": 8,
   "metadata": {},
   "outputs": [
    {
     "data": {
      "text/plain": [
       "tvm.te.tensor.Tensor"
      ]
     },
     "execution_count": 8,
     "metadata": {},
     "output_type": "execute_result"
    }
   ],
   "source": [
    "type(A)"
   ]
  },
  {
   "cell_type": "markdown",
   "metadata": {},
   "source": [
    "每个 `te.Tensor` 都有一个 shape 字段和 dtype 字段，用于记录计算的 shape 和数据类型。"
   ]
  },
  {
   "cell_type": "markdown",
   "metadata": {},
   "source": [
    "A.shape"
   ]
  },
  {
   "cell_type": "markdown",
   "metadata": {},
   "source": [
    "我们可以通过一系列张量表达式来描述计算。这里的 `te.compute` 使用 `te.compute(output_shape, fcompute)` 这样的接口，该接口接收输入的尺寸以及计算的张量表达式。fcompute 函数描述了我们要如何计算给定索引的每个元素 `[i, j]` 的值。"
   ]
  },
  {
   "cell_type": "markdown",
   "metadata": {},
   "source": [
    "`te_matmul` 函数接受一个 `te.Tensor` 类型的对象，并返回矩阵乘法结果。请注意我们是如何根据 A 和 B 的输入 shape 构造计算的。`te_matmul` 适用于具有不同输入 shape 的 A 和 B。**在构建输入输出的placeholder后确定维度。**"
   ]
  },
  {
   "cell_type": "code",
   "execution_count": 9,
   "metadata": {},
   "outputs": [],
   "source": [
    "def te_matmul(A: te.Tensor, B: te.Tensor) -> te.Tensor:\n",
    "    assert A.shape[1] == B.shape[0]\n",
    "    n = A.shape[0]\n",
    "    m = B.shape[1]\n",
    "    k = te.reduce_axis((0, A.shape[1]), name=\"k\")\n",
    "    return te.compute((n, m), lambda i, j: te.sum(A[i, k] * B[k, j], axis=k), name=\"matmul\")"
   ]
  },
  {
   "cell_type": "markdown",
   "metadata": {},
   "source": [
    "我们可以使用 A 和 B 获得调用 `te_matmul` 的结果。"
   ]
  },
  {
   "cell_type": "code",
   "execution_count": 10,
   "metadata": {},
   "outputs": [],
   "source": [
    "C = te_matmul(A, B)"
   ]
  },
  {
   "cell_type": "markdown",
   "metadata": {},
   "source": [
    "要创建 TensorIR 函数，我们可以调用 `te.create_prim_func` 并传入输入和输出值。"
   ]
  },
  {
   "cell_type": "code",
   "execution_count": 11,
   "metadata": {},
   "outputs": [
    {
     "name": "stdout",
     "output_type": "stream",
     "text": [
      "\u001b[38;5;30;03m# from tvm.script import tir as T\u001b[39;00m\n",
      "\u001b[38;5;129m@T\u001b[39m\u001b[38;5;129;01m.\u001b[39;00mprim_func\n",
      "\u001b[38;5;28;01mdef\u001b[39;00m \u001b[38;5;21mfunc\u001b[39m(A: T\u001b[38;5;129;01m.\u001b[39;00mBuffer[(\u001b[38;5;28m128\u001b[39m, \u001b[38;5;28m128\u001b[39m), \u001b[38;5;124m\"\u001b[39m\u001b[38;5;124mfloat32\u001b[39m\u001b[38;5;124m\"\u001b[39m], B: T\u001b[38;5;129;01m.\u001b[39;00mBuffer[(\u001b[38;5;28m128\u001b[39m, \u001b[38;5;28m128\u001b[39m), \u001b[38;5;124m\"\u001b[39m\u001b[38;5;124mfloat32\u001b[39m\u001b[38;5;124m\"\u001b[39m], matmul: T\u001b[38;5;129;01m.\u001b[39;00mBuffer[(\u001b[38;5;28m128\u001b[39m, \u001b[38;5;28m128\u001b[39m), \u001b[38;5;124m\"\u001b[39m\u001b[38;5;124mfloat32\u001b[39m\u001b[38;5;124m\"\u001b[39m]) \u001b[38;5;129;01m-\u001b[39;00m\u001b[38;5;129;01m>\u001b[39;00m \u001b[38;5;28;01mNone\u001b[39;00m:\n",
      "    \u001b[38;5;30;03m# function attr dict\u001b[39;00m\n",
      "    T\u001b[38;5;129;01m.\u001b[39;00mfunc_attr({\u001b[38;5;124m\"\u001b[39m\u001b[38;5;124mglobal_symbol\u001b[39m\u001b[38;5;124m\"\u001b[39m: \u001b[38;5;124m\"\u001b[39m\u001b[38;5;124mmain\u001b[39m\u001b[38;5;124m\"\u001b[39m, \u001b[38;5;124m\"\u001b[39m\u001b[38;5;124mtir.noalias\u001b[39m\u001b[38;5;124m\"\u001b[39m: \u001b[38;5;28;01mTrue\u001b[39;00m})\n",
      "    \u001b[38;5;30;03m# body\u001b[39;00m\n",
      "    \u001b[38;5;30;03m# with T.block(\"root\")\u001b[39;00m\n",
      "    \u001b[38;5;28;01mfor\u001b[39;00m i0, i1, i2 \u001b[38;5;28;01min\u001b[39;00m T\u001b[38;5;129;01m.\u001b[39;00mgrid(\u001b[38;5;28m128\u001b[39m, \u001b[38;5;28m128\u001b[39m, \u001b[38;5;28m128\u001b[39m):\n",
      "        \u001b[38;5;28;01mwith\u001b[39;00m T\u001b[38;5;129;01m.\u001b[39;00mblock(\u001b[38;5;124m\"\u001b[39m\u001b[38;5;124mmatmul\u001b[39m\u001b[38;5;124m\"\u001b[39m):\n",
      "            i, j, k \u001b[38;5;129;01m=\u001b[39;00m T\u001b[38;5;129;01m.\u001b[39;00maxis\u001b[38;5;129;01m.\u001b[39;00mremap(\u001b[38;5;124m\"\u001b[39m\u001b[38;5;124mSSR\u001b[39m\u001b[38;5;124m\"\u001b[39m, [i0, i1, i2])\n",
      "            T\u001b[38;5;129;01m.\u001b[39;00mreads(A[i, k], B[k, j])\n",
      "            T\u001b[38;5;129;01m.\u001b[39;00mwrites(matmul[i, j])\n",
      "            \u001b[38;5;28;01mwith\u001b[39;00m T\u001b[38;5;129;01m.\u001b[39;00minit():\n",
      "                matmul[i, j] \u001b[38;5;129;01m=\u001b[39;00m T\u001b[38;5;129;01m.\u001b[39;00mfloat32(\u001b[38;5;28m0\u001b[39m)\n",
      "            matmul[i, j] \u001b[38;5;129;01m=\u001b[39;00m matmul[i, j] \u001b[38;5;129;01m+\u001b[39;00m A[i, k] \u001b[38;5;129;01m*\u001b[39;00m B[k, j]\n",
      "\n"
     ]
    }
   ],
   "source": [
    "te.create_prim_func([A, B, C]).show()"
   ]
  },
  {
   "cell_type": "markdown",
   "metadata": {},
   "source": [
    "我们可以用类似的方式为 ReLU 计算创建张量表达式。在这里，我们写一个可以适用于具有任何维度数量和 shape 的 `te.Tensor` 的 `te_relu` 函数。\n",
    "\n",
    "tips: *i -> i可以是任意长度的参数"
   ]
  },
  {
   "cell_type": "code",
   "execution_count": 12,
   "metadata": {},
   "outputs": [],
   "source": [
    "def te_relu(A: te.Tensor) -> te.Tensor:\n",
    "    return te.compute(A.shape, lambda *i: te.max(A(*i), 0), name=\"relu\")"
   ]
  },
  {
   "cell_type": "markdown",
   "metadata": {},
   "source": [
    "让我们在两种不同的输入维度数量和 shape 上尝试 `te_relu`。 第一个 `X1` 的尺寸为 `(10,)`。"
   ]
  },
  {
   "cell_type": "code",
   "execution_count": 13,
   "metadata": {},
   "outputs": [
    {
     "name": "stdout",
     "output_type": "stream",
     "text": [
      "\u001b[38;5;30;03m# from tvm.script import tir as T\u001b[39;00m\n",
      "\u001b[38;5;129m@T\u001b[39m\u001b[38;5;129;01m.\u001b[39;00mprim_func\n",
      "\u001b[38;5;28;01mdef\u001b[39;00m \u001b[38;5;21mfunc\u001b[39m(X1: T\u001b[38;5;129;01m.\u001b[39;00mBuffer[\u001b[38;5;28m10\u001b[39m, \u001b[38;5;124m\"\u001b[39m\u001b[38;5;124mfloat32\u001b[39m\u001b[38;5;124m\"\u001b[39m], relu: T\u001b[38;5;129;01m.\u001b[39;00mBuffer[\u001b[38;5;28m10\u001b[39m, \u001b[38;5;124m\"\u001b[39m\u001b[38;5;124mfloat32\u001b[39m\u001b[38;5;124m\"\u001b[39m]) \u001b[38;5;129;01m-\u001b[39;00m\u001b[38;5;129;01m>\u001b[39;00m \u001b[38;5;28;01mNone\u001b[39;00m:\n",
      "    \u001b[38;5;30;03m# function attr dict\u001b[39;00m\n",
      "    T\u001b[38;5;129;01m.\u001b[39;00mfunc_attr({\u001b[38;5;124m\"\u001b[39m\u001b[38;5;124mglobal_symbol\u001b[39m\u001b[38;5;124m\"\u001b[39m: \u001b[38;5;124m\"\u001b[39m\u001b[38;5;124mmain\u001b[39m\u001b[38;5;124m\"\u001b[39m, \u001b[38;5;124m\"\u001b[39m\u001b[38;5;124mtir.noalias\u001b[39m\u001b[38;5;124m\"\u001b[39m: \u001b[38;5;28;01mTrue\u001b[39;00m})\n",
      "    \u001b[38;5;30;03m# body\u001b[39;00m\n",
      "    \u001b[38;5;30;03m# with T.block(\"root\")\u001b[39;00m\n",
      "    \u001b[38;5;28;01mfor\u001b[39;00m i0 \u001b[38;5;28;01min\u001b[39;00m T\u001b[38;5;129;01m.\u001b[39;00mserial(\u001b[38;5;28m10\u001b[39m):\n",
      "        \u001b[38;5;28;01mwith\u001b[39;00m T\u001b[38;5;129;01m.\u001b[39;00mblock(\u001b[38;5;124m\"\u001b[39m\u001b[38;5;124mrelu\u001b[39m\u001b[38;5;124m\"\u001b[39m):\n",
      "            i0_1 \u001b[38;5;129;01m=\u001b[39;00m T\u001b[38;5;129;01m.\u001b[39;00maxis\u001b[38;5;129;01m.\u001b[39;00mspatial(\u001b[38;5;28m10\u001b[39m, i0)\n",
      "            T\u001b[38;5;129;01m.\u001b[39;00mreads(X1[i0_1])\n",
      "            T\u001b[38;5;129;01m.\u001b[39;00mwrites(relu[i0_1])\n",
      "            relu[i0_1] \u001b[38;5;129;01m=\u001b[39;00m T\u001b[38;5;129;01m.\u001b[39;00mmax(X1[i0_1], T\u001b[38;5;129;01m.\u001b[39;00mfloat32(\u001b[38;5;28m0\u001b[39m))\n",
      "\n"
     ]
    }
   ],
   "source": [
    "X1 = te.placeholder((10,), name=\"X1\", dtype=\"float32\")\n",
    "Y1 = te_relu(X1)\n",
    "te.create_prim_func([X1, Y1]).show()"
   ]
  },
  {
   "cell_type": "markdown",
   "metadata": {},
   "source": [
    "然后是形状为 `(10, 20)` 的 `X2`。"
   ]
  },
  {
   "cell_type": "code",
   "execution_count": 14,
   "metadata": {},
   "outputs": [
    {
     "name": "stdout",
     "output_type": "stream",
     "text": [
      "\u001b[38;5;30;03m# from tvm.script import tir as T\u001b[39;00m\n",
      "\u001b[38;5;129m@T\u001b[39m\u001b[38;5;129;01m.\u001b[39;00mprim_func\n",
      "\u001b[38;5;28;01mdef\u001b[39;00m \u001b[38;5;21mfunc\u001b[39m(X1: T\u001b[38;5;129;01m.\u001b[39;00mBuffer[(\u001b[38;5;28m10\u001b[39m, \u001b[38;5;28m20\u001b[39m), \u001b[38;5;124m\"\u001b[39m\u001b[38;5;124mfloat32\u001b[39m\u001b[38;5;124m\"\u001b[39m], relu: T\u001b[38;5;129;01m.\u001b[39;00mBuffer[(\u001b[38;5;28m10\u001b[39m, \u001b[38;5;28m20\u001b[39m), \u001b[38;5;124m\"\u001b[39m\u001b[38;5;124mfloat32\u001b[39m\u001b[38;5;124m\"\u001b[39m]) \u001b[38;5;129;01m-\u001b[39;00m\u001b[38;5;129;01m>\u001b[39;00m \u001b[38;5;28;01mNone\u001b[39;00m:\n",
      "    \u001b[38;5;30;03m# function attr dict\u001b[39;00m\n",
      "    T\u001b[38;5;129;01m.\u001b[39;00mfunc_attr({\u001b[38;5;124m\"\u001b[39m\u001b[38;5;124mglobal_symbol\u001b[39m\u001b[38;5;124m\"\u001b[39m: \u001b[38;5;124m\"\u001b[39m\u001b[38;5;124mmain\u001b[39m\u001b[38;5;124m\"\u001b[39m, \u001b[38;5;124m\"\u001b[39m\u001b[38;5;124mtir.noalias\u001b[39m\u001b[38;5;124m\"\u001b[39m: \u001b[38;5;28;01mTrue\u001b[39;00m})\n",
      "    \u001b[38;5;30;03m# body\u001b[39;00m\n",
      "    \u001b[38;5;30;03m# with T.block(\"root\")\u001b[39;00m\n",
      "    \u001b[38;5;28;01mfor\u001b[39;00m i0, i1 \u001b[38;5;28;01min\u001b[39;00m T\u001b[38;5;129;01m.\u001b[39;00mgrid(\u001b[38;5;28m10\u001b[39m, \u001b[38;5;28m20\u001b[39m):\n",
      "        \u001b[38;5;28;01mwith\u001b[39;00m T\u001b[38;5;129;01m.\u001b[39;00mblock(\u001b[38;5;124m\"\u001b[39m\u001b[38;5;124mrelu\u001b[39m\u001b[38;5;124m\"\u001b[39m):\n",
      "            i0_1, i1_1 \u001b[38;5;129;01m=\u001b[39;00m T\u001b[38;5;129;01m.\u001b[39;00maxis\u001b[38;5;129;01m.\u001b[39;00mremap(\u001b[38;5;124m\"\u001b[39m\u001b[38;5;124mSS\u001b[39m\u001b[38;5;124m\"\u001b[39m, [i0, i1])\n",
      "            T\u001b[38;5;129;01m.\u001b[39;00mreads(X1[i0_1, i1_1])\n",
      "            T\u001b[38;5;129;01m.\u001b[39;00mwrites(relu[i0_1, i1_1])\n",
      "            relu[i0_1, i1_1] \u001b[38;5;129;01m=\u001b[39;00m T\u001b[38;5;129;01m.\u001b[39;00mmax(X1[i0_1, i1_1], T\u001b[38;5;129;01m.\u001b[39;00mfloat32(\u001b[38;5;28m0\u001b[39m))\n",
      "\n"
     ]
    }
   ],
   "source": [
    "X2 = te.placeholder((10, 20), name=\"X1\", dtype=\"float32\")\n",
    "Y2 = te_relu(X2)\n",
    "te.create_prim_func([X2, Y2]).show()"
   ]
  },
  {
   "cell_type": "markdown",
   "metadata": {},
   "source": [
    "`te` API 允许我们做的另一件事是组合操作并创建“融合 (fused)”算子。例如，我们可以将 matmul 的结果再次应用 relu。"
   ]
  },
  {
   "cell_type": "code",
   "execution_count": 15,
   "metadata": {},
   "outputs": [],
   "source": [
    "C = te_matmul(A, B)\n",
    "D = te_relu(C)"
   ]
  },
  {
   "cell_type": "markdown",
   "metadata": {},
   "source": [
    "我们可以通过只传递感兴趣的输入和输出值，跳过中间值来创建一个 TensorIR 函数。 这将导致 matmul 的结果被分配为 TensorIR 函数中的**临时空间**。"
   ]
  },
  {
   "cell_type": "code",
   "execution_count": 16,
   "metadata": {},
   "outputs": [
    {
     "name": "stdout",
     "output_type": "stream",
     "text": [
      "\u001b[38;5;30;03m# from tvm.script import tir as T\u001b[39;00m\n",
      "\u001b[38;5;129m@T\u001b[39m\u001b[38;5;129;01m.\u001b[39;00mprim_func\n",
      "\u001b[38;5;28;01mdef\u001b[39;00m \u001b[38;5;21mfunc\u001b[39m(A: T\u001b[38;5;129;01m.\u001b[39;00mBuffer[(\u001b[38;5;28m128\u001b[39m, \u001b[38;5;28m128\u001b[39m), \u001b[38;5;124m\"\u001b[39m\u001b[38;5;124mfloat32\u001b[39m\u001b[38;5;124m\"\u001b[39m], B: T\u001b[38;5;129;01m.\u001b[39;00mBuffer[(\u001b[38;5;28m128\u001b[39m, \u001b[38;5;28m128\u001b[39m), \u001b[38;5;124m\"\u001b[39m\u001b[38;5;124mfloat32\u001b[39m\u001b[38;5;124m\"\u001b[39m], relu: T\u001b[38;5;129;01m.\u001b[39;00mBuffer[(\u001b[38;5;28m128\u001b[39m, \u001b[38;5;28m128\u001b[39m), \u001b[38;5;124m\"\u001b[39m\u001b[38;5;124mfloat32\u001b[39m\u001b[38;5;124m\"\u001b[39m]) \u001b[38;5;129;01m-\u001b[39;00m\u001b[38;5;129;01m>\u001b[39;00m \u001b[38;5;28;01mNone\u001b[39;00m:\n",
      "    \u001b[38;5;30;03m# function attr dict\u001b[39;00m\n",
      "    T\u001b[38;5;129;01m.\u001b[39;00mfunc_attr({\u001b[38;5;124m\"\u001b[39m\u001b[38;5;124mglobal_symbol\u001b[39m\u001b[38;5;124m\"\u001b[39m: \u001b[38;5;124m\"\u001b[39m\u001b[38;5;124mmain\u001b[39m\u001b[38;5;124m\"\u001b[39m, \u001b[38;5;124m\"\u001b[39m\u001b[38;5;124mtir.noalias\u001b[39m\u001b[38;5;124m\"\u001b[39m: \u001b[38;5;28;01mTrue\u001b[39;00m})\n",
      "    \u001b[38;5;30;03m# body\u001b[39;00m\n",
      "    \u001b[38;5;30;03m# with T.block(\"root\")\u001b[39;00m\n",
      "    matmul \u001b[38;5;129;01m=\u001b[39;00m T\u001b[38;5;129;01m.\u001b[39;00malloc_buffer([\u001b[38;5;28m128\u001b[39m, \u001b[38;5;28m128\u001b[39m], dtype\u001b[38;5;129;01m=\u001b[39;00m\u001b[38;5;124m\"\u001b[39m\u001b[38;5;124mfloat32\u001b[39m\u001b[38;5;124m\"\u001b[39m)\n",
      "    \u001b[38;5;28;01mfor\u001b[39;00m i0, i1, i2 \u001b[38;5;28;01min\u001b[39;00m T\u001b[38;5;129;01m.\u001b[39;00mgrid(\u001b[38;5;28m128\u001b[39m, \u001b[38;5;28m128\u001b[39m, \u001b[38;5;28m128\u001b[39m):\n",
      "        \u001b[38;5;28;01mwith\u001b[39;00m T\u001b[38;5;129;01m.\u001b[39;00mblock(\u001b[38;5;124m\"\u001b[39m\u001b[38;5;124mmatmul\u001b[39m\u001b[38;5;124m\"\u001b[39m):\n",
      "            i, j, k \u001b[38;5;129;01m=\u001b[39;00m T\u001b[38;5;129;01m.\u001b[39;00maxis\u001b[38;5;129;01m.\u001b[39;00mremap(\u001b[38;5;124m\"\u001b[39m\u001b[38;5;124mSSR\u001b[39m\u001b[38;5;124m\"\u001b[39m, [i0, i1, i2])\n",
      "            T\u001b[38;5;129;01m.\u001b[39;00mreads(A[i, k], B[k, j])\n",
      "            T\u001b[38;5;129;01m.\u001b[39;00mwrites(matmul[i, j])\n",
      "            \u001b[38;5;28;01mwith\u001b[39;00m T\u001b[38;5;129;01m.\u001b[39;00minit():\n",
      "                matmul[i, j] \u001b[38;5;129;01m=\u001b[39;00m T\u001b[38;5;129;01m.\u001b[39;00mfloat32(\u001b[38;5;28m0\u001b[39m)\n",
      "            matmul[i, j] \u001b[38;5;129;01m=\u001b[39;00m matmul[i, j] \u001b[38;5;129;01m+\u001b[39;00m A[i, k] \u001b[38;5;129;01m*\u001b[39;00m B[k, j]\n",
      "    \u001b[38;5;28;01mfor\u001b[39;00m i0, i1 \u001b[38;5;28;01min\u001b[39;00m T\u001b[38;5;129;01m.\u001b[39;00mgrid(\u001b[38;5;28m128\u001b[39m, \u001b[38;5;28m128\u001b[39m):\n",
      "        \u001b[38;5;28;01mwith\u001b[39;00m T\u001b[38;5;129;01m.\u001b[39;00mblock(\u001b[38;5;124m\"\u001b[39m\u001b[38;5;124mrelu\u001b[39m\u001b[38;5;124m\"\u001b[39m):\n",
      "            i0_1, i1_1 \u001b[38;5;129;01m=\u001b[39;00m T\u001b[38;5;129;01m.\u001b[39;00maxis\u001b[38;5;129;01m.\u001b[39;00mremap(\u001b[38;5;124m\"\u001b[39m\u001b[38;5;124mSS\u001b[39m\u001b[38;5;124m\"\u001b[39m, [i0, i1])\n",
      "            T\u001b[38;5;129;01m.\u001b[39;00mreads(matmul[i0_1, i1_1])\n",
      "            T\u001b[38;5;129;01m.\u001b[39;00mwrites(relu[i0_1, i1_1])\n",
      "            relu[i0_1, i1_1] \u001b[38;5;129;01m=\u001b[39;00m T\u001b[38;5;129;01m.\u001b[39;00mmax(matmul[i0_1, i1_1], T\u001b[38;5;129;01m.\u001b[39;00mfloat32(\u001b[38;5;28m0\u001b[39m))\n",
      "\n"
     ]
    }
   ],
   "source": [
    "te.create_prim_func([A, B, D]).show()"
   ]
  },
  {
   "cell_type": "markdown",
   "metadata": {},
   "source": [
    "我们还可以将中间结果 C 传递到参数列表中。在这种情况下，TensorIR 函数希望我们也从调用方传入 C。通常我们建议只传入输入和输出，这样我们就可以在里面进行更高级的融合。"
   ]
  },
  {
   "cell_type": "code",
   "execution_count": 17,
   "metadata": {},
   "outputs": [
    {
     "name": "stdout",
     "output_type": "stream",
     "text": [
      "\u001b[38;5;30;03m# from tvm.script import tir as T\u001b[39;00m\n",
      "\u001b[38;5;129m@T\u001b[39m\u001b[38;5;129;01m.\u001b[39;00mprim_func\n",
      "\u001b[38;5;28;01mdef\u001b[39;00m \u001b[38;5;21mfunc\u001b[39m(A: T\u001b[38;5;129;01m.\u001b[39;00mBuffer[(\u001b[38;5;28m128\u001b[39m, \u001b[38;5;28m128\u001b[39m), \u001b[38;5;124m\"\u001b[39m\u001b[38;5;124mfloat32\u001b[39m\u001b[38;5;124m\"\u001b[39m], B: T\u001b[38;5;129;01m.\u001b[39;00mBuffer[(\u001b[38;5;28m128\u001b[39m, \u001b[38;5;28m128\u001b[39m), \u001b[38;5;124m\"\u001b[39m\u001b[38;5;124mfloat32\u001b[39m\u001b[38;5;124m\"\u001b[39m], matmul: T\u001b[38;5;129;01m.\u001b[39;00mBuffer[(\u001b[38;5;28m128\u001b[39m, \u001b[38;5;28m128\u001b[39m), \u001b[38;5;124m\"\u001b[39m\u001b[38;5;124mfloat32\u001b[39m\u001b[38;5;124m\"\u001b[39m], relu: T\u001b[38;5;129;01m.\u001b[39;00mBuffer[(\u001b[38;5;28m128\u001b[39m, \u001b[38;5;28m128\u001b[39m), \u001b[38;5;124m\"\u001b[39m\u001b[38;5;124mfloat32\u001b[39m\u001b[38;5;124m\"\u001b[39m]) \u001b[38;5;129;01m-\u001b[39;00m\u001b[38;5;129;01m>\u001b[39;00m \u001b[38;5;28;01mNone\u001b[39;00m:\n",
      "    \u001b[38;5;30;03m# function attr dict\u001b[39;00m\n",
      "    T\u001b[38;5;129;01m.\u001b[39;00mfunc_attr({\u001b[38;5;124m\"\u001b[39m\u001b[38;5;124mglobal_symbol\u001b[39m\u001b[38;5;124m\"\u001b[39m: \u001b[38;5;124m\"\u001b[39m\u001b[38;5;124mmain\u001b[39m\u001b[38;5;124m\"\u001b[39m, \u001b[38;5;124m\"\u001b[39m\u001b[38;5;124mtir.noalias\u001b[39m\u001b[38;5;124m\"\u001b[39m: \u001b[38;5;28;01mTrue\u001b[39;00m})\n",
      "    \u001b[38;5;30;03m# body\u001b[39;00m\n",
      "    \u001b[38;5;30;03m# with T.block(\"root\")\u001b[39;00m\n",
      "    \u001b[38;5;28;01mfor\u001b[39;00m i0, i1, i2 \u001b[38;5;28;01min\u001b[39;00m T\u001b[38;5;129;01m.\u001b[39;00mgrid(\u001b[38;5;28m128\u001b[39m, \u001b[38;5;28m128\u001b[39m, \u001b[38;5;28m128\u001b[39m):\n",
      "        \u001b[38;5;28;01mwith\u001b[39;00m T\u001b[38;5;129;01m.\u001b[39;00mblock(\u001b[38;5;124m\"\u001b[39m\u001b[38;5;124mmatmul\u001b[39m\u001b[38;5;124m\"\u001b[39m):\n",
      "            i, j, k \u001b[38;5;129;01m=\u001b[39;00m T\u001b[38;5;129;01m.\u001b[39;00maxis\u001b[38;5;129;01m.\u001b[39;00mremap(\u001b[38;5;124m\"\u001b[39m\u001b[38;5;124mSSR\u001b[39m\u001b[38;5;124m\"\u001b[39m, [i0, i1, i2])\n",
      "            T\u001b[38;5;129;01m.\u001b[39;00mreads(A[i, k], B[k, j])\n",
      "            T\u001b[38;5;129;01m.\u001b[39;00mwrites(matmul[i, j])\n",
      "            \u001b[38;5;28;01mwith\u001b[39;00m T\u001b[38;5;129;01m.\u001b[39;00minit():\n",
      "                matmul[i, j] \u001b[38;5;129;01m=\u001b[39;00m T\u001b[38;5;129;01m.\u001b[39;00mfloat32(\u001b[38;5;28m0\u001b[39m)\n",
      "            matmul[i, j] \u001b[38;5;129;01m=\u001b[39;00m matmul[i, j] \u001b[38;5;129;01m+\u001b[39;00m A[i, k] \u001b[38;5;129;01m*\u001b[39;00m B[k, j]\n",
      "    \u001b[38;5;28;01mfor\u001b[39;00m i0, i1 \u001b[38;5;28;01min\u001b[39;00m T\u001b[38;5;129;01m.\u001b[39;00mgrid(\u001b[38;5;28m128\u001b[39m, \u001b[38;5;28m128\u001b[39m):\n",
      "        \u001b[38;5;28;01mwith\u001b[39;00m T\u001b[38;5;129;01m.\u001b[39;00mblock(\u001b[38;5;124m\"\u001b[39m\u001b[38;5;124mrelu\u001b[39m\u001b[38;5;124m\"\u001b[39m):\n",
      "            i0_1, i1_1 \u001b[38;5;129;01m=\u001b[39;00m T\u001b[38;5;129;01m.\u001b[39;00maxis\u001b[38;5;129;01m.\u001b[39;00mremap(\u001b[38;5;124m\"\u001b[39m\u001b[38;5;124mSS\u001b[39m\u001b[38;5;124m\"\u001b[39m, [i0, i1])\n",
      "            T\u001b[38;5;129;01m.\u001b[39;00mreads(matmul[i0_1, i1_1])\n",
      "            T\u001b[38;5;129;01m.\u001b[39;00mwrites(relu[i0_1, i1_1])\n",
      "            relu[i0_1, i1_1] \u001b[38;5;129;01m=\u001b[39;00m T\u001b[38;5;129;01m.\u001b[39;00mmax(matmul[i0_1, i1_1], T\u001b[38;5;129;01m.\u001b[39;00mfloat32(\u001b[38;5;28m0\u001b[39m))\n",
      "\n"
     ]
    }
   ],
   "source": [
    "te.create_prim_func([A, B, C, D]).show()"
   ]
  },
  {
   "cell_type": "markdown",
   "metadata": {},
   "source": [
    "### 使用 BlockBuilder 构造 IRModule\n",
    "\n",
    "到目前为止，我们已经创建了一个 TensorIR 函数。 为了构建端到端的模型执行，我们还需要能够通过计算图连接多个 TensorIR 函数。\n",
    "\n",
    "让我们首先创建一个 block builder，它可以帮助我们逐步构建一个 `relax.Function`。"
   ]
  },
  {
   "cell_type": "code",
   "execution_count": 18,
   "metadata": {},
   "outputs": [],
   "source": [
    "A = relax.Var(\"A\", (128, 128), relax.DynTensorType(2, \"float32\"))\n",
    "B = relax.Var(\"B\", (128, 128), relax.DynTensorType(2, \"float32\"))"
   ]
  },
  {
   "cell_type": "markdown",
   "metadata": {},
   "source": [
    "我们通过创建 block builder 和一系列元张量函数来构造 Relax 函数。"
   ]
  },
  {
   "cell_type": "code",
   "execution_count": 19,
   "metadata": {},
   "outputs": [
    {
     "name": "stdout",
     "output_type": "stream",
     "text": [
      "\u001b[38;5;129m@tvm\u001b[39m\u001b[38;5;129;01m.\u001b[39;00mscript\u001b[38;5;129;01m.\u001b[39;00mir_module\n",
      "\u001b[38;5;28;01mclass\u001b[39;00m \u001b[38;5;21;01mModule\u001b[39;00m:\n",
      "    \u001b[38;5;129m@T\u001b[39m\u001b[38;5;129;01m.\u001b[39;00mprim_func\n",
      "    \u001b[38;5;28;01mdef\u001b[39;00m \u001b[38;5;21mte_matmul\u001b[39m(rxplaceholder: T\u001b[38;5;129;01m.\u001b[39;00mBuffer[(\u001b[38;5;28m128\u001b[39m, \u001b[38;5;28m128\u001b[39m), \u001b[38;5;124m\"\u001b[39m\u001b[38;5;124mfloat32\u001b[39m\u001b[38;5;124m\"\u001b[39m], rxplaceholder_1: T\u001b[38;5;129;01m.\u001b[39;00mBuffer[(\u001b[38;5;28m128\u001b[39m, \u001b[38;5;28m128\u001b[39m), \u001b[38;5;124m\"\u001b[39m\u001b[38;5;124mfloat32\u001b[39m\u001b[38;5;124m\"\u001b[39m], matmul: T\u001b[38;5;129;01m.\u001b[39;00mBuffer[(\u001b[38;5;28m128\u001b[39m, \u001b[38;5;28m128\u001b[39m), \u001b[38;5;124m\"\u001b[39m\u001b[38;5;124mfloat32\u001b[39m\u001b[38;5;124m\"\u001b[39m]) \u001b[38;5;129;01m-\u001b[39;00m\u001b[38;5;129;01m>\u001b[39;00m \u001b[38;5;28;01mNone\u001b[39;00m:\n",
      "        \u001b[38;5;30;03m# function attr dict\u001b[39;00m\n",
      "        T\u001b[38;5;129;01m.\u001b[39;00mfunc_attr({\u001b[38;5;124m\"\u001b[39m\u001b[38;5;124mglobal_symbol\u001b[39m\u001b[38;5;124m\"\u001b[39m: \u001b[38;5;124m\"\u001b[39m\u001b[38;5;124mte_matmul\u001b[39m\u001b[38;5;124m\"\u001b[39m, \u001b[38;5;124m\"\u001b[39m\u001b[38;5;124mtir.noalias\u001b[39m\u001b[38;5;124m\"\u001b[39m: \u001b[38;5;28;01mTrue\u001b[39;00m})\n",
      "        \u001b[38;5;30;03m# body\u001b[39;00m\n",
      "        \u001b[38;5;30;03m# with T.block(\"root\")\u001b[39;00m\n",
      "        \u001b[38;5;28;01mfor\u001b[39;00m i0, i1, i2 \u001b[38;5;28;01min\u001b[39;00m T\u001b[38;5;129;01m.\u001b[39;00mgrid(\u001b[38;5;28m128\u001b[39m, \u001b[38;5;28m128\u001b[39m, \u001b[38;5;28m128\u001b[39m):\n",
      "            \u001b[38;5;28;01mwith\u001b[39;00m T\u001b[38;5;129;01m.\u001b[39;00mblock(\u001b[38;5;124m\"\u001b[39m\u001b[38;5;124mmatmul\u001b[39m\u001b[38;5;124m\"\u001b[39m):\n",
      "                i, j, k \u001b[38;5;129;01m=\u001b[39;00m T\u001b[38;5;129;01m.\u001b[39;00maxis\u001b[38;5;129;01m.\u001b[39;00mremap(\u001b[38;5;124m\"\u001b[39m\u001b[38;5;124mSSR\u001b[39m\u001b[38;5;124m\"\u001b[39m, [i0, i1, i2])\n",
      "                T\u001b[38;5;129;01m.\u001b[39;00mreads(rxplaceholder[i, k], rxplaceholder_1[k, j])\n",
      "                T\u001b[38;5;129;01m.\u001b[39;00mwrites(matmul[i, j])\n",
      "                \u001b[38;5;28;01mwith\u001b[39;00m T\u001b[38;5;129;01m.\u001b[39;00minit():\n",
      "                    matmul[i, j] \u001b[38;5;129;01m=\u001b[39;00m T\u001b[38;5;129;01m.\u001b[39;00mfloat32(\u001b[38;5;28m0\u001b[39m)\n",
      "                matmul[i, j] \u001b[38;5;129;01m=\u001b[39;00m matmul[i, j] \u001b[38;5;129;01m+\u001b[39;00m rxplaceholder[i, k] \u001b[38;5;129;01m*\u001b[39;00m rxplaceholder_1[k, j]\n",
      "    \n",
      "    \u001b[38;5;129m@T\u001b[39m\u001b[38;5;129;01m.\u001b[39;00mprim_func\n",
      "    \u001b[38;5;28;01mdef\u001b[39;00m \u001b[38;5;21mte_relu\u001b[39m(rxplaceholder: T\u001b[38;5;129;01m.\u001b[39;00mBuffer[(\u001b[38;5;28m128\u001b[39m, \u001b[38;5;28m128\u001b[39m), \u001b[38;5;124m\"\u001b[39m\u001b[38;5;124mfloat32\u001b[39m\u001b[38;5;124m\"\u001b[39m], relu: T\u001b[38;5;129;01m.\u001b[39;00mBuffer[(\u001b[38;5;28m128\u001b[39m, \u001b[38;5;28m128\u001b[39m), \u001b[38;5;124m\"\u001b[39m\u001b[38;5;124mfloat32\u001b[39m\u001b[38;5;124m\"\u001b[39m]) \u001b[38;5;129;01m-\u001b[39;00m\u001b[38;5;129;01m>\u001b[39;00m \u001b[38;5;28;01mNone\u001b[39;00m:\n",
      "        \u001b[38;5;30;03m# function attr dict\u001b[39;00m\n",
      "        T\u001b[38;5;129;01m.\u001b[39;00mfunc_attr({\u001b[38;5;124m\"\u001b[39m\u001b[38;5;124mglobal_symbol\u001b[39m\u001b[38;5;124m\"\u001b[39m: \u001b[38;5;124m\"\u001b[39m\u001b[38;5;124mte_relu\u001b[39m\u001b[38;5;124m\"\u001b[39m, \u001b[38;5;124m\"\u001b[39m\u001b[38;5;124mtir.noalias\u001b[39m\u001b[38;5;124m\"\u001b[39m: \u001b[38;5;28;01mTrue\u001b[39;00m})\n",
      "        \u001b[38;5;30;03m# body\u001b[39;00m\n",
      "        \u001b[38;5;30;03m# with T.block(\"root\")\u001b[39;00m\n",
      "        \u001b[38;5;28;01mfor\u001b[39;00m i0, i1 \u001b[38;5;28;01min\u001b[39;00m T\u001b[38;5;129;01m.\u001b[39;00mgrid(\u001b[38;5;28m128\u001b[39m, \u001b[38;5;28m128\u001b[39m):\n",
      "            \u001b[38;5;28;01mwith\u001b[39;00m T\u001b[38;5;129;01m.\u001b[39;00mblock(\u001b[38;5;124m\"\u001b[39m\u001b[38;5;124mrelu\u001b[39m\u001b[38;5;124m\"\u001b[39m):\n",
      "                i0_1, i1_1 \u001b[38;5;129;01m=\u001b[39;00m T\u001b[38;5;129;01m.\u001b[39;00maxis\u001b[38;5;129;01m.\u001b[39;00mremap(\u001b[38;5;124m\"\u001b[39m\u001b[38;5;124mSS\u001b[39m\u001b[38;5;124m\"\u001b[39m, [i0, i1])\n",
      "                T\u001b[38;5;129;01m.\u001b[39;00mreads(rxplaceholder[i0_1, i1_1])\n",
      "                T\u001b[38;5;129;01m.\u001b[39;00mwrites(relu[i0_1, i1_1])\n",
      "                relu[i0_1, i1_1] \u001b[38;5;129;01m=\u001b[39;00m T\u001b[38;5;129;01m.\u001b[39;00mmax(rxplaceholder[i0_1, i1_1], T\u001b[38;5;129;01m.\u001b[39;00mfloat32(\u001b[38;5;28m0\u001b[39m))\n",
      "    \n",
      "    \u001b[38;5;129m@R\u001b[39m\u001b[38;5;129;01m.\u001b[39;00mfunction\n",
      "    \u001b[38;5;28;01mdef\u001b[39;00m \u001b[38;5;21mmain\u001b[39m(A: Tensor((\u001b[38;5;28m128\u001b[39m, \u001b[38;5;28m128\u001b[39m), \u001b[38;5;124m\"\u001b[39m\u001b[38;5;124mfloat32\u001b[39m\u001b[38;5;124m\"\u001b[39m), B: Tensor((\u001b[38;5;28m128\u001b[39m, \u001b[38;5;28m128\u001b[39m), \u001b[38;5;124m\"\u001b[39m\u001b[38;5;124mfloat32\u001b[39m\u001b[38;5;124m\"\u001b[39m)) \u001b[38;5;129;01m-\u001b[39;00m\u001b[38;5;129;01m>\u001b[39;00m Tensor(\u001b[38;5;28;01mNone\u001b[39;00m, \u001b[38;5;124m\"\u001b[39m\u001b[38;5;124mfloat32\u001b[39m\u001b[38;5;124m\"\u001b[39m, ndim \u001b[38;5;129;01m=\u001b[39;00m \u001b[38;5;28m2\u001b[39m):\n",
      "        \u001b[38;5;30;03m# block 0\u001b[39;00m\n",
      "        \u001b[38;5;28;01mwith\u001b[39;00m R\u001b[38;5;129;01m.\u001b[39;00mdataflow():\n",
      "            lv \u001b[38;5;129;01m=\u001b[39;00m R\u001b[38;5;129;01m.\u001b[39;00mcall_tir(te_matmul, (A, B), (\u001b[38;5;28m128\u001b[39m, \u001b[38;5;28m128\u001b[39m), dtype\u001b[38;5;129;01m=\u001b[39;00m\u001b[38;5;124m\"\u001b[39m\u001b[38;5;124mfloat32\u001b[39m\u001b[38;5;124m\"\u001b[39m)\n",
      "            lv1 \u001b[38;5;129;01m=\u001b[39;00m R\u001b[38;5;129;01m.\u001b[39;00mcall_tir(te_relu, (lv,), (\u001b[38;5;28m128\u001b[39m, \u001b[38;5;28m128\u001b[39m), dtype\u001b[38;5;129;01m=\u001b[39;00m\u001b[38;5;124m\"\u001b[39m\u001b[38;5;124mfloat32\u001b[39m\u001b[38;5;124m\"\u001b[39m)\n",
      "            gv: Tensor((\u001b[38;5;28m128\u001b[39m, \u001b[38;5;28m128\u001b[39m), \u001b[38;5;124m\"\u001b[39m\u001b[38;5;124mfloat32\u001b[39m\u001b[38;5;124m\"\u001b[39m) \u001b[38;5;129;01m=\u001b[39;00m lv1\n",
      "            R\u001b[38;5;129;01m.\u001b[39;00moutput(gv)\n",
      "        \u001b[38;5;28;01mreturn\u001b[39;00m gv\n",
      "    \n",
      "\n"
     ]
    }
   ],
   "source": [
    "bb = relax.BlockBuilder()\n",
    "\n",
    "with bb.function(\"main\"):\n",
    "    with bb.dataflow():\n",
    "        C = bb.emit_te(te_matmul, A, B)\n",
    "        D = bb.emit_te(te_relu, C)\n",
    "        R = bb.emit_output(D)\n",
    "    bb.emit_func_output(R, params=[A, B])\n",
    "\n",
    "MyModule = bb.get()\n",
    "MyModule.show()"
   ]
  },
  {
   "cell_type": "markdown",
   "metadata": {},
   "source": [
    "### 深入理解 BlockBuilder API\n",
    "\n",
    "现在让我们深入了解 BlockBuilder 的 API。将 BlockBuilder 代码和生成的 IRModule 并排放置会很有帮助。\n",
    "\n",
    "![](../img/integration_block_builder.png)\n",
    "\n",
    "BlockBuilder 带有与 Relax 函数中相应的作用域。例如，`bb.dataflow()` 创建一个 dataflow block，其中所有对 BlockBuilder 的调用都处在 dataflow block 的作用域中。**dataflow中的计算均没有side effect**。\n",
    "\n",
    "```python\n",
    "with bb.function(\"main\"):\n",
    "    with bb.dataflow():\n",
    "        # every emit call generates a variable inside a dataflow block.\n",
    "```"
   ]
  },
  {
   "cell_type": "markdown",
   "metadata": {},
   "source": [
    "每个中间结果都是一个 `relax.Var`，对应一个存储计算结果的变量。 `DataflowVar` 表示该变量是 dataflow block（和计算图）内的中间步骤。"
   ]
  },
  {
   "cell_type": "code",
   "execution_count": 20,
   "metadata": {},
   "outputs": [
    {
     "data": {
      "text/plain": [
       "tvm.relax.expr.DataflowVar"
      ]
     },
     "execution_count": 20,
     "metadata": {},
     "output_type": "execute_result"
    }
   ],
   "source": [
    "type(C)"
   ]
  },
  {
   "cell_type": "code",
   "execution_count": 21,
   "metadata": {},
   "outputs": [
    {
     "data": {
      "text/plain": [
       "True"
      ]
     },
     "execution_count": 21,
     "metadata": {},
     "output_type": "execute_result"
    }
   ],
   "source": [
    "isinstance(C, relax.Var)\n",
    "\n",
    "# isinstance() 与 type() 区别：\n",
    "# type() 不会认为子类是一种父类类型，不考虑继承关系。\n",
    "# isinstance() 会认为子类是一种父类类型，考虑继承关系。\n",
    "# 如果要判断两个类型是否相同推荐使用 isinstance()"
   ]
  },
  {
   "cell_type": "markdown",
   "metadata": {},
   "source": [
    "Relax 函数中的每一行都是由 `emit_te` 调用生成的。 例如，\n",
    "\n",
    "```python\n",
    "lv = R.call_tir(te_matmul, (A, B), (128, 128), dtype=\"float32\")\n",
    "```\n",
    "\n",
    "是由如下代码所生成。\n",
    "\n",
    "```python\n",
    "C = bb.emit_te(te_matmul, A, B).\n",
    "```\n",
    "\n",
    "在幕后，`bb.emit_te` 做了以下事情：\n",
    "\n",
    "- 为 A 和 B 创建一个输入 `te.placeholder`，\n",
    "- 通过 `te_matmul` 函数运行它们。\n",
    "- 调用 `te.create_prim_func` 来创建一个 TensorIR 函数。\n",
    "- 通过 `call_tir` 生成对函数的调用。\n",
    "\n",
    "我们可以发现，上面 BlockBuilder 构造后的结果是一个有两个中间值的计算图，一个节点对应 `te_matmul` 操作，另一个节点对应 `te_relu`。\n",
    "\n",
    "我们可以通过 `bb.emit_output` 创建每个 dataflow block 的输出变量。"
   ]
  },
  {
   "cell_type": "markdown",
   "metadata": {},
   "source": [
    "```python\n",
    "with bb.dataflow():\n",
    "    ...\n",
    "    R = bb.emit_output(D)\n",
    "```\n",
    "\n",
    "上面的代码标志着 `D` 是一个可以在 dataflow block 之外引用的变量。\n",
    "\n",
    "最后，函数输出由 `bb.emit_func_output` 标记。 我们只能在每个函数作用域内调用一次 `emit_func_output`。\n",
    "\n",
    "值得注意的是，我们可以在输出阶段指定函数的参数列表。 这样做在我们动态收集参数列表的情况下会有帮助。"
   ]
  },
  {
   "cell_type": "markdown",
   "metadata": {},
   "source": [
    "```python\n",
    "with bb.function(\"main\"):\n",
    "    ...\n",
    "    # specify parameters in the end\n",
    "    bb.emit_func_output(R, params=[A, B])\n",
    "```\n",
    "\n",
    "或者，我们也可以在函数范围的开头指定参数列表。\n",
    "\n",
    "```python\n",
    "# specify parameters in the beginning.\n",
    "with bb.function(\"main\", params=[A, B]):\n",
    "    ...\n",
    "    bb.emit_func_output(R)\n",
    "```"
   ]
  },
  {
   "cell_type": "markdown",
   "metadata": {},
   "source": [
    "## 从 PyTorch 导入模型\n",
    "\n",
    "现在我们已经学习了以编程方式构建 IRModule 的工具。 让我们使用它们将机器学习模型从 PyTorch 导入成为 IRModule。\n",
    "\n",
    "大多数机器学习框架都带有计算图抽象，其中每个节点对应一个操作，边对应它们之间的依赖关系。 我们将采用 PyTorch 模型，获取 PyTorch 原生格式的计算图，并将其转换为 IRModule。\n",
    "\n",
    "让我们从在 PyTorch 中定义一个模型开始。 为了使示例保持一致，我们将使用 matmul + ReLU 示例。"
   ]
  },
  {
   "cell_type": "code",
   "execution_count": 22,
   "metadata": {},
   "outputs": [],
   "source": [
    "class MyModel(nn.Module):\n",
    "    def __init__(self):\n",
    "        super(MyModel, self).__init__()\n",
    "        self.weight = nn.Parameter(torch.randn(128, 128))\n",
    "\n",
    "    def forward(self, x):\n",
    "        x = torch.matmul(x, self.weight)\n",
    "        x = torch.relu(x)\n",
    "        return x"
   ]
  },
  {
   "cell_type": "markdown",
   "metadata": {},
   "source": [
    "### 创建 TorchFX GraphModule\n",
    "\n",
    "我们使用 TorchFX 来表示来自 PyTorch 的模型的计算图。"
   ]
  },
  {
   "cell_type": "code",
   "execution_count": 23,
   "metadata": {},
   "outputs": [
    {
     "data": {
      "text/plain": [
       "torch.fx.graph_module.GraphModule.__new__.<locals>.GraphModuleImpl"
      ]
     },
     "execution_count": 23,
     "metadata": {},
     "output_type": "execute_result"
    }
   ],
   "source": [
    "model = MyModel()\n",
    "fx_module = fx.symbolic_trace(model)\n",
    "type(fx_module) # fx_module表示计算图"
   ]
  },
  {
   "cell_type": "markdown",
   "metadata": {},
   "source": [
    "`fx_module` 包含一个简单的计算图，可以打印成表格便于查看。我们的目标是**将此图转换为 IRModule**。"
   ]
  },
  {
   "cell_type": "code",
   "execution_count": 24,
   "metadata": {},
   "outputs": [
    {
     "name": "stdout",
     "output_type": "stream",
     "text": [
      "opcode         name    target                                                     args         kwargs\n",
      "-------------  ------  ---------------------------------------------------------  -----------  --------\n",
      "placeholder    x       x                                                          ()           {}\n",
      "get_attr       weight  weight                                                     ()           {}\n",
      "call_function  matmul  <built-in method matmul of type object at 0x7fdd897759a0>  (x, weight)  {}\n",
      "call_function  relu    <built-in method relu of type object at 0x7fdd897759a0>    (matmul,)    {}\n",
      "output         output  output                                                     (relu,)      {}\n"
     ]
    }
   ],
   "source": [
    "fx_module.graph.print_tabular()"
   ]
  },
  {
   "cell_type": "markdown",
   "metadata": {},
   "source": [
    "### 构造映射函数\n",
    "\n",
    "让我们定义整体的翻译逻辑。 主要流程如下：\n",
    "\n",
    "- 创建一个 `node_map`，将 `fx.Node` 映射到相应的 `relax.Var`，该 `relax.Var` 代表 IRModule 中的已翻译节点。\n",
    "- 以拓扑顺序迭代 FX 图中的节点。\n",
    "- 给定映射输入，获取节点的映射输出。"
   ]
  },
  {
   "cell_type": "code",
   "execution_count": 25,
   "metadata": {},
   "outputs": [],
   "source": [
    "def map_param(param: nn.Parameter):\n",
    "    ndim = len(param.data.shape)\n",
    "    # 把nn.Parameter参数映射到常数里\n",
    "    return relax.const(\n",
    "        param.data.cpu().numpy(), relax.DynTensorType(ndim, \"float32\")\n",
    "    )\n",
    "\n",
    "def fetch_attr(fx_mod, target: str):\n",
    "    \"\"\"Helper function to fetch an attr\"\"\"\n",
    "    target_atoms = target.split('.')\n",
    "    attr_itr = fx_mod\n",
    "    for i, atom in enumerate(target_atoms):\n",
    "        if not hasattr(attr_itr, atom):\n",
    "            raise RuntimeError(f\"Node referenced nonexistant target {'.'.join(target_atoms[:i])}\")\n",
    "        attr_itr = getattr(attr_itr, atom)\n",
    "    return attr_itr\n",
    "\n",
    "# 将给定的fx module计算图转化为对应的ir module计算图\n",
    "def from_fx(fx_mod, input_shapes, call_function_map, call_module_map):\n",
    "    input_index = 0\n",
    "    node_map = {}\n",
    "    named_modules = dict(fx_mod.named_modules())\n",
    "\n",
    "    bb = relax.BlockBuilder()\n",
    "\n",
    "    fn_inputs = []\n",
    "    fn_output = None\n",
    "    with bb.function(\"main\"):\n",
    "        with bb.dataflow():\n",
    "            # 迭代计算图中节点（拓扑排序后）进行变换\n",
    "            for node in fx_mod.graph.nodes:\n",
    "                if node.op == \"placeholder\": # input\n",
    "                    # create input placeholder\n",
    "                    shape = input_shapes[input_index]\n",
    "                    input_index += 1\n",
    "                    input_var = relax.Var(\n",
    "                        node.target, shape, relax.DynTensorType(len(shape), \"float32\")\n",
    "                    )\n",
    "                    fn_inputs.append(input_var)\n",
    "                    node_map[node] = input_var\n",
    "                elif node.op == \"get_attr\": # fx_mod.weight -> \n",
    "                    node_map[node] = map_param(fetch_attr(fx_mod, node.target))\n",
    "                elif node.op == \"call_function\":\n",
    "                    node_map[node] = call_function_map[node.target](bb, node_map, node)\n",
    "                elif node.op == \"call_module\":\n",
    "                    named_module = named_modules[node.target]\n",
    "                    node_map[node] = call_module_map[type(named_module)](bb, node_map, node, named_module)\n",
    "                elif node.op == \"output\":\n",
    "                    output = node_map[node.args[0]]\n",
    "                    assert fn_output is None\n",
    "                    fn_output = bb.emit_output(output)\n",
    "        # output and finalize the function\n",
    "        bb.emit_func_output(output, fn_inputs)\n",
    "    return bb.get()"
   ]
  },
  {
   "cell_type": "markdown",
   "metadata": {},
   "source": [
    "我们没有在 `from_fx` 函数中定义函数映射。 我们将通过映射提供每个 torch function 的翻译规则。 具体来说，以下代码块显示了我们如何通过 `emit_te` API 做到这一点。"
   ]
  },
  {
   "cell_type": "code",
   "execution_count": 26,
   "metadata": {},
   "outputs": [
    {
     "name": "stdout",
     "output_type": "stream",
     "text": [
      "\u001b[38;5;129m@tvm\u001b[39m\u001b[38;5;129;01m.\u001b[39;00mscript\u001b[38;5;129;01m.\u001b[39;00mir_module\n",
      "\u001b[38;5;28;01mclass\u001b[39;00m \u001b[38;5;21;01mModule\u001b[39;00m:\n",
      "    \u001b[38;5;129m@T\u001b[39m\u001b[38;5;129;01m.\u001b[39;00mprim_func\n",
      "    \u001b[38;5;28;01mdef\u001b[39;00m \u001b[38;5;21mte_matmul\u001b[39m(rxplaceholder: T\u001b[38;5;129;01m.\u001b[39;00mBuffer[(\u001b[38;5;28m1\u001b[39m, \u001b[38;5;28m128\u001b[39m), \u001b[38;5;124m\"\u001b[39m\u001b[38;5;124mfloat32\u001b[39m\u001b[38;5;124m\"\u001b[39m], rxplaceholder_1: T\u001b[38;5;129;01m.\u001b[39;00mBuffer[(\u001b[38;5;28m128\u001b[39m, \u001b[38;5;28m128\u001b[39m), \u001b[38;5;124m\"\u001b[39m\u001b[38;5;124mfloat32\u001b[39m\u001b[38;5;124m\"\u001b[39m], matmul: T\u001b[38;5;129;01m.\u001b[39;00mBuffer[(\u001b[38;5;28m1\u001b[39m, \u001b[38;5;28m128\u001b[39m), \u001b[38;5;124m\"\u001b[39m\u001b[38;5;124mfloat32\u001b[39m\u001b[38;5;124m\"\u001b[39m]) \u001b[38;5;129;01m-\u001b[39;00m\u001b[38;5;129;01m>\u001b[39;00m \u001b[38;5;28;01mNone\u001b[39;00m:\n",
      "        \u001b[38;5;30;03m# function attr dict\u001b[39;00m\n",
      "        T\u001b[38;5;129;01m.\u001b[39;00mfunc_attr({\u001b[38;5;124m\"\u001b[39m\u001b[38;5;124mglobal_symbol\u001b[39m\u001b[38;5;124m\"\u001b[39m: \u001b[38;5;124m\"\u001b[39m\u001b[38;5;124mte_matmul\u001b[39m\u001b[38;5;124m\"\u001b[39m, \u001b[38;5;124m\"\u001b[39m\u001b[38;5;124mtir.noalias\u001b[39m\u001b[38;5;124m\"\u001b[39m: \u001b[38;5;28;01mTrue\u001b[39;00m})\n",
      "        \u001b[38;5;30;03m# body\u001b[39;00m\n",
      "        \u001b[38;5;30;03m# with T.block(\"root\")\u001b[39;00m\n",
      "        \u001b[38;5;28;01mfor\u001b[39;00m i0, i1, i2 \u001b[38;5;28;01min\u001b[39;00m T\u001b[38;5;129;01m.\u001b[39;00mgrid(\u001b[38;5;28m1\u001b[39m, \u001b[38;5;28m128\u001b[39m, \u001b[38;5;28m128\u001b[39m):\n",
      "            \u001b[38;5;28;01mwith\u001b[39;00m T\u001b[38;5;129;01m.\u001b[39;00mblock(\u001b[38;5;124m\"\u001b[39m\u001b[38;5;124mmatmul\u001b[39m\u001b[38;5;124m\"\u001b[39m):\n",
      "                i, j, k \u001b[38;5;129;01m=\u001b[39;00m T\u001b[38;5;129;01m.\u001b[39;00maxis\u001b[38;5;129;01m.\u001b[39;00mremap(\u001b[38;5;124m\"\u001b[39m\u001b[38;5;124mSSR\u001b[39m\u001b[38;5;124m\"\u001b[39m, [i0, i1, i2])\n",
      "                T\u001b[38;5;129;01m.\u001b[39;00mreads(rxplaceholder[i, k], rxplaceholder_1[k, j])\n",
      "                T\u001b[38;5;129;01m.\u001b[39;00mwrites(matmul[i, j])\n",
      "                \u001b[38;5;28;01mwith\u001b[39;00m T\u001b[38;5;129;01m.\u001b[39;00minit():\n",
      "                    matmul[i, j] \u001b[38;5;129;01m=\u001b[39;00m T\u001b[38;5;129;01m.\u001b[39;00mfloat32(\u001b[38;5;28m0\u001b[39m)\n",
      "                matmul[i, j] \u001b[38;5;129;01m=\u001b[39;00m matmul[i, j] \u001b[38;5;129;01m+\u001b[39;00m rxplaceholder[i, k] \u001b[38;5;129;01m*\u001b[39;00m rxplaceholder_1[k, j]\n",
      "    \n",
      "    \u001b[38;5;129m@T\u001b[39m\u001b[38;5;129;01m.\u001b[39;00mprim_func\n",
      "    \u001b[38;5;28;01mdef\u001b[39;00m \u001b[38;5;21mte_relu\u001b[39m(rxplaceholder: T\u001b[38;5;129;01m.\u001b[39;00mBuffer[(\u001b[38;5;28m1\u001b[39m, \u001b[38;5;28m128\u001b[39m), \u001b[38;5;124m\"\u001b[39m\u001b[38;5;124mfloat32\u001b[39m\u001b[38;5;124m\"\u001b[39m], relu: T\u001b[38;5;129;01m.\u001b[39;00mBuffer[(\u001b[38;5;28m1\u001b[39m, \u001b[38;5;28m128\u001b[39m), \u001b[38;5;124m\"\u001b[39m\u001b[38;5;124mfloat32\u001b[39m\u001b[38;5;124m\"\u001b[39m]) \u001b[38;5;129;01m-\u001b[39;00m\u001b[38;5;129;01m>\u001b[39;00m \u001b[38;5;28;01mNone\u001b[39;00m:\n",
      "        \u001b[38;5;30;03m# function attr dict\u001b[39;00m\n",
      "        T\u001b[38;5;129;01m.\u001b[39;00mfunc_attr({\u001b[38;5;124m\"\u001b[39m\u001b[38;5;124mglobal_symbol\u001b[39m\u001b[38;5;124m\"\u001b[39m: \u001b[38;5;124m\"\u001b[39m\u001b[38;5;124mte_relu\u001b[39m\u001b[38;5;124m\"\u001b[39m, \u001b[38;5;124m\"\u001b[39m\u001b[38;5;124mtir.noalias\u001b[39m\u001b[38;5;124m\"\u001b[39m: \u001b[38;5;28;01mTrue\u001b[39;00m})\n",
      "        \u001b[38;5;30;03m# body\u001b[39;00m\n",
      "        \u001b[38;5;30;03m# with T.block(\"root\")\u001b[39;00m\n",
      "        \u001b[38;5;28;01mfor\u001b[39;00m i0, i1 \u001b[38;5;28;01min\u001b[39;00m T\u001b[38;5;129;01m.\u001b[39;00mgrid(\u001b[38;5;28m1\u001b[39m, \u001b[38;5;28m128\u001b[39m):\n",
      "            \u001b[38;5;28;01mwith\u001b[39;00m T\u001b[38;5;129;01m.\u001b[39;00mblock(\u001b[38;5;124m\"\u001b[39m\u001b[38;5;124mrelu\u001b[39m\u001b[38;5;124m\"\u001b[39m):\n",
      "                i0_1, i1_1 \u001b[38;5;129;01m=\u001b[39;00m T\u001b[38;5;129;01m.\u001b[39;00maxis\u001b[38;5;129;01m.\u001b[39;00mremap(\u001b[38;5;124m\"\u001b[39m\u001b[38;5;124mSS\u001b[39m\u001b[38;5;124m\"\u001b[39m, [i0, i1])\n",
      "                T\u001b[38;5;129;01m.\u001b[39;00mreads(rxplaceholder[i0_1, i1_1])\n",
      "                T\u001b[38;5;129;01m.\u001b[39;00mwrites(relu[i0_1, i1_1])\n",
      "                relu[i0_1, i1_1] \u001b[38;5;129;01m=\u001b[39;00m T\u001b[38;5;129;01m.\u001b[39;00mmax(rxplaceholder[i0_1, i1_1], T\u001b[38;5;129;01m.\u001b[39;00mfloat32(\u001b[38;5;28m0\u001b[39m))\n",
      "    \n",
      "    \u001b[38;5;129m@R\u001b[39m\u001b[38;5;129;01m.\u001b[39;00mfunction\n",
      "    \u001b[38;5;28;01mdef\u001b[39;00m \u001b[38;5;21mmain\u001b[39m(x: Tensor((\u001b[38;5;28m1\u001b[39m, \u001b[38;5;28m128\u001b[39m), \u001b[38;5;124m\"\u001b[39m\u001b[38;5;124mfloat32\u001b[39m\u001b[38;5;124m\"\u001b[39m)) \u001b[38;5;129;01m-\u001b[39;00m\u001b[38;5;129;01m>\u001b[39;00m Tensor(\u001b[38;5;28;01mNone\u001b[39;00m, \u001b[38;5;124m\"\u001b[39m\u001b[38;5;124mfloat32\u001b[39m\u001b[38;5;124m\"\u001b[39m, ndim \u001b[38;5;129;01m=\u001b[39;00m \u001b[38;5;28m2\u001b[39m):\n",
      "        \u001b[38;5;30;03m# block 0\u001b[39;00m\n",
      "        \u001b[38;5;28;01mwith\u001b[39;00m R\u001b[38;5;129;01m.\u001b[39;00mdataflow():\n",
      "            lv \u001b[38;5;129;01m=\u001b[39;00m R\u001b[38;5;129;01m.\u001b[39;00mcall_tir(te_matmul, (x, meta[relay\u001b[38;5;129;01m.\u001b[39;00mConstant][\u001b[38;5;28m0\u001b[39m]), (\u001b[38;5;28m1\u001b[39m, \u001b[38;5;28m128\u001b[39m), dtype\u001b[38;5;129;01m=\u001b[39;00m\u001b[38;5;124m\"\u001b[39m\u001b[38;5;124mfloat32\u001b[39m\u001b[38;5;124m\"\u001b[39m)\n",
      "            lv1 \u001b[38;5;129;01m=\u001b[39;00m R\u001b[38;5;129;01m.\u001b[39;00mcall_tir(te_relu, (lv,), (\u001b[38;5;28m1\u001b[39m, \u001b[38;5;28m128\u001b[39m), dtype\u001b[38;5;129;01m=\u001b[39;00m\u001b[38;5;124m\"\u001b[39m\u001b[38;5;124mfloat32\u001b[39m\u001b[38;5;124m\"\u001b[39m)\n",
      "            gv: Tensor((\u001b[38;5;28m1\u001b[39m, \u001b[38;5;28m128\u001b[39m), \u001b[38;5;124m\"\u001b[39m\u001b[38;5;124mfloat32\u001b[39m\u001b[38;5;124m\"\u001b[39m) \u001b[38;5;129;01m=\u001b[39;00m lv1\n",
      "            R\u001b[38;5;129;01m.\u001b[39;00moutput(gv)\n",
      "        \u001b[38;5;28;01mreturn\u001b[39;00m lv1\n",
      "    \n",
      "\n"
     ]
    }
   ],
   "source": [
    "def map_matmul(bb, node_map, node: fx.Node):\n",
    "    A = node_map[node.args[0]]\n",
    "    B = node_map[node.args[1]]\n",
    "    return bb.emit_te(te_matmul, A, B) # 返回生成的tensor expression\n",
    "\n",
    "def map_relu(bb, node_map, node: fx.Node):\n",
    "    A = node_map[node.args[0]]\n",
    "    return bb.emit_te(te_relu, A)\n",
    "\n",
    "MyModule = from_fx(\n",
    "    fx_module,\n",
    "    input_shapes = [(1, 128)],\n",
    "    call_function_map = { # 指定映射\n",
    "      torch.matmul: map_matmul,\n",
    "      torch.relu: map_relu,\n",
    "    },\n",
    "    call_module_map={},\n",
    ")\n",
    "\n",
    "MyModule.show()"
   ]
  },
  {
   "cell_type": "markdown",
   "metadata": {},
   "source": [
    "## 回到 FashionMNIST 的例子"
   ]
  },
  {
   "cell_type": "code",
   "execution_count": 27,
   "metadata": {},
   "outputs": [],
   "source": [
    "import torch\n",
    "import torchvision\n",
    "\n",
    "test_data = torchvision.datasets.FashionMNIST(\n",
    "    root=\"data\",\n",
    "    train=False,\n",
    "    download=True,\n",
    "    transform=torchvision.transforms.ToTensor()\n",
    ")\n",
    "test_loader = torch.utils.data.DataLoader(test_data, batch_size=1, shuffle=True)\n",
    "class_names = ['T-shirt/top', 'Trouser', 'Pullover', 'Dress', 'Coat',\n",
    "               'Sandal', 'Shirt', 'Sneaker', 'Bag', 'Ankle boot']\n",
    "\n",
    "img, label = next(iter(test_loader))\n",
    "img = img.reshape(1, 28, 28).numpy()"
   ]
  },
  {
   "cell_type": "code",
   "execution_count": 28,
   "metadata": {},
   "outputs": [
    {
     "data": {
      "image/png": "[encoded data removed]",
      "text/plain": [
       "<Figure size 640x480 with 2 Axes>"
      ]
     },
     "metadata": {},
     "output_type": "display_data"
    },
    {
     "name": "stdout",
     "output_type": "stream",
     "text": [
      "Class: Ankle boot\n"
     ]
    }
   ],
   "source": [
    "import matplotlib.pyplot as plt\n",
    "\n",
    "plt.figure()\n",
    "plt.imshow(img[0])\n",
    "plt.colorbar()\n",
    "plt.grid(False)\n",
    "plt.show()\n",
    "\n",
    "print(\"Class:\", class_names[label[0]])"
   ]
  },
  {
   "cell_type": "code",
   "execution_count": 29,
   "metadata": {},
   "outputs": [
    {
     "name": "stdout",
     "output_type": "stream",
     "text": [
      "--2022-08-19 17:24:02--  https://github.com/mlc-ai/web-data/raw/main/models/fasionmnist_mlp_params.pkl\n",
      "Resolving github.com (github.com)... 20.205.243.166\n",
      "Connecting to github.com (github.com)|20.205.243.166|:443... connected.\n",
      "HTTP request sent, awaiting response... 302 Found\n",
      "Location: https://raw.githubusercontent.com/mlc-ai/web-data/main/models/fasionmnist_mlp_params.pkl [following]\n",
      "--2022-08-19 17:24:03--  https://raw.githubusercontent.com/mlc-ai/web-data/main/models/fasionmnist_mlp_params.pkl\n",
      "Resolving raw.githubusercontent.com (raw.githubusercontent.com)... 0.0.0.0, ::\n",
      "Connecting to raw.githubusercontent.com (raw.githubusercontent.com)|0.0.0.0|:443... failed: Connection refused.\n",
      "Connecting to raw.githubusercontent.com (raw.githubusercontent.com)|::|:443... failed: Connection refused.\n"
     ]
    }
   ],
   "source": [
    "# Hide outputs\n",
    "!wget -nc https://github.com/mlc-ai/web-data/raw/main/models/fasionmnist_mlp_params.pkl"
   ]
  },
  {
   "cell_type": "markdown",
   "metadata": {},
   "source": [
    "以上是我们关心的模型，我们可以按如下的方式构建其 PyTorch 模型。"
   ]
  },
  {
   "cell_type": "code",
   "execution_count": 32,
   "metadata": {},
   "outputs": [],
   "source": [
    "class MLP(nn.Module):\n",
    "    def __init__(self):\n",
    "        super(MLP, self).__init__()\n",
    "        self.linear0 = nn.Linear(784, 128, bias=True)\n",
    "        self.relu = nn.ReLU()\n",
    "        self.linear1 = nn.Linear(128, 10, bias=True)\n",
    "\n",
    "    def forward(self, x):\n",
    "        x = self.linear0(x)\n",
    "        x = self.relu(x)\n",
    "        x = self.linear1(x)\n",
    "        return x"
   ]
  },
  {
   "cell_type": "code",
   "execution_count": 33,
   "metadata": {},
   "outputs": [],
   "source": [
    "import pickle as pkl\n",
    "mlp_model = MLP()\n",
    "\n",
    "mlp_params = pkl.load(open(\"fasionmnist_mlp_params.pkl\", \"rb\"))\n",
    "mlp_model.linear0.weight.data = torch.from_numpy(mlp_params[\"w0\"])\n",
    "mlp_model.linear0.bias.data = torch.from_numpy(mlp_params[\"b0\"])\n",
    "mlp_model.linear1.weight.data = torch.from_numpy(mlp_params[\"w1\"])\n",
    "mlp_model.linear1.bias.data = torch.from_numpy(mlp_params[\"b1\"])"
   ]
  },
  {
   "cell_type": "code",
   "execution_count": 34,
   "metadata": {},
   "outputs": [
    {
     "name": "stdout",
     "output_type": "stream",
     "text": [
      "Torch Prediction: Ankle boot\n"
     ]
    }
   ],
   "source": [
    "torch_res = mlp_model(torch.from_numpy(img.reshape(1, 784)))\n",
    "\n",
    "pred_kind = np.argmax(torch_res.detach().numpy(), axis=1)\n",
    "print(\"Torch Prediction:\", class_names[pred_kind[0]])"
   ]
  },
  {
   "cell_type": "markdown",
   "metadata": {},
   "source": [
    "让我们尝试通过为相应的 `nn.Module` 定义映射函数来从 FX 转换。 在这里，我们重用了来自 TVM TOPI (TVM operator inventory) 的预定义 TE 库，而不是定义我们自己的张量表达式。\n",
    "\n",
    "- `topi.nn.dense(x, w)` 执行转置矩阵乘法`x @ w.T`\n",
    "- `topi.add` 执行广播加法。"
   ]
  },
  {
   "cell_type": "code",
   "execution_count": 35,
   "metadata": {},
   "outputs": [
    {
     "name": "stdout",
     "output_type": "stream",
     "text": [
      "\u001b[38;5;129m@tvm\u001b[39m\u001b[38;5;129;01m.\u001b[39;00mscript\u001b[38;5;129;01m.\u001b[39;00mir_module\n",
      "\u001b[38;5;28;01mclass\u001b[39;00m \u001b[38;5;21;01mModule\u001b[39;00m:\n",
      "    \u001b[38;5;129m@T\u001b[39m\u001b[38;5;129;01m.\u001b[39;00mprim_func\n",
      "    \u001b[38;5;28;01mdef\u001b[39;00m \u001b[38;5;21mte_relu\u001b[39m(rxplaceholder: T\u001b[38;5;129;01m.\u001b[39;00mBuffer[(\u001b[38;5;28m1\u001b[39m, \u001b[38;5;28m128\u001b[39m), \u001b[38;5;124m\"\u001b[39m\u001b[38;5;124mfloat32\u001b[39m\u001b[38;5;124m\"\u001b[39m], relu: T\u001b[38;5;129;01m.\u001b[39;00mBuffer[(\u001b[38;5;28m1\u001b[39m, \u001b[38;5;28m128\u001b[39m), \u001b[38;5;124m\"\u001b[39m\u001b[38;5;124mfloat32\u001b[39m\u001b[38;5;124m\"\u001b[39m]) \u001b[38;5;129;01m-\u001b[39;00m\u001b[38;5;129;01m>\u001b[39;00m \u001b[38;5;28;01mNone\u001b[39;00m:\n",
      "        \u001b[38;5;30;03m# function attr dict\u001b[39;00m\n",
      "        T\u001b[38;5;129;01m.\u001b[39;00mfunc_attr({\u001b[38;5;124m\"\u001b[39m\u001b[38;5;124mglobal_symbol\u001b[39m\u001b[38;5;124m\"\u001b[39m: \u001b[38;5;124m\"\u001b[39m\u001b[38;5;124mte_relu\u001b[39m\u001b[38;5;124m\"\u001b[39m, \u001b[38;5;124m\"\u001b[39m\u001b[38;5;124mtir.noalias\u001b[39m\u001b[38;5;124m\"\u001b[39m: \u001b[38;5;28;01mTrue\u001b[39;00m})\n",
      "        \u001b[38;5;30;03m# body\u001b[39;00m\n",
      "        \u001b[38;5;30;03m# with T.block(\"root\")\u001b[39;00m\n",
      "        \u001b[38;5;28;01mfor\u001b[39;00m i0, i1 \u001b[38;5;28;01min\u001b[39;00m T\u001b[38;5;129;01m.\u001b[39;00mgrid(\u001b[38;5;28m1\u001b[39m, \u001b[38;5;28m128\u001b[39m):\n",
      "            \u001b[38;5;28;01mwith\u001b[39;00m T\u001b[38;5;129;01m.\u001b[39;00mblock(\u001b[38;5;124m\"\u001b[39m\u001b[38;5;124mrelu\u001b[39m\u001b[38;5;124m\"\u001b[39m):\n",
      "                i0_1, i1_1 \u001b[38;5;129;01m=\u001b[39;00m T\u001b[38;5;129;01m.\u001b[39;00maxis\u001b[38;5;129;01m.\u001b[39;00mremap(\u001b[38;5;124m\"\u001b[39m\u001b[38;5;124mSS\u001b[39m\u001b[38;5;124m\"\u001b[39m, [i0, i1])\n",
      "                T\u001b[38;5;129;01m.\u001b[39;00mreads(rxplaceholder[i0_1, i1_1])\n",
      "                T\u001b[38;5;129;01m.\u001b[39;00mwrites(relu[i0_1, i1_1])\n",
      "                relu[i0_1, i1_1] \u001b[38;5;129;01m=\u001b[39;00m T\u001b[38;5;129;01m.\u001b[39;00mmax(rxplaceholder[i0_1, i1_1], T\u001b[38;5;129;01m.\u001b[39;00mfloat32(\u001b[38;5;28m0\u001b[39m))\n",
      "    \n",
      "    \u001b[38;5;129m@R\u001b[39m\u001b[38;5;129;01m.\u001b[39;00mfunction\n",
      "    \u001b[38;5;28;01mdef\u001b[39;00m \u001b[38;5;21mmain\u001b[39m(x: Tensor((\u001b[38;5;28m1\u001b[39m, \u001b[38;5;28m784\u001b[39m), \u001b[38;5;124m\"\u001b[39m\u001b[38;5;124mfloat32\u001b[39m\u001b[38;5;124m\"\u001b[39m)) \u001b[38;5;129;01m-\u001b[39;00m\u001b[38;5;129;01m>\u001b[39;00m Tensor(\u001b[38;5;28;01mNone\u001b[39;00m, \u001b[38;5;124m\"\u001b[39m\u001b[38;5;124mfloat32\u001b[39m\u001b[38;5;124m\"\u001b[39m, ndim \u001b[38;5;129;01m=\u001b[39;00m \u001b[38;5;28m2\u001b[39m):\n",
      "        \u001b[38;5;30;03m# block 0\u001b[39;00m\n",
      "        \u001b[38;5;28;01mwith\u001b[39;00m R\u001b[38;5;129;01m.\u001b[39;00mdataflow():\n",
      "            lv \u001b[38;5;129;01m=\u001b[39;00m R\u001b[38;5;129;01m.\u001b[39;00mcall_tir(dense, (x, meta[relay\u001b[38;5;129;01m.\u001b[39;00mConstant][\u001b[38;5;28m0\u001b[39m]), (\u001b[38;5;28m1\u001b[39m, \u001b[38;5;28m128\u001b[39m), dtype\u001b[38;5;129;01m=\u001b[39;00m\u001b[38;5;124m\"\u001b[39m\u001b[38;5;124mfloat32\u001b[39m\u001b[38;5;124m\"\u001b[39m)\n",
      "            lv1 \u001b[38;5;129;01m=\u001b[39;00m R\u001b[38;5;129;01m.\u001b[39;00mcall_tir(add, (lv, meta[relay\u001b[38;5;129;01m.\u001b[39;00mConstant][\u001b[38;5;28m1\u001b[39m]), (\u001b[38;5;28m1\u001b[39m, \u001b[38;5;28m128\u001b[39m), dtype\u001b[38;5;129;01m=\u001b[39;00m\u001b[38;5;124m\"\u001b[39m\u001b[38;5;124mfloat32\u001b[39m\u001b[38;5;124m\"\u001b[39m)\n",
      "            lv2 \u001b[38;5;129;01m=\u001b[39;00m R\u001b[38;5;129;01m.\u001b[39;00mcall_tir(te_relu, (lv1,), (\u001b[38;5;28m1\u001b[39m, \u001b[38;5;28m128\u001b[39m), dtype\u001b[38;5;129;01m=\u001b[39;00m\u001b[38;5;124m\"\u001b[39m\u001b[38;5;124mfloat32\u001b[39m\u001b[38;5;124m\"\u001b[39m)\n",
      "            lv3 \u001b[38;5;129;01m=\u001b[39;00m R\u001b[38;5;129;01m.\u001b[39;00mcall_tir(dense1, (lv2, meta[relay\u001b[38;5;129;01m.\u001b[39;00mConstant][\u001b[38;5;28m2\u001b[39m]), (\u001b[38;5;28m1\u001b[39m, \u001b[38;5;28m10\u001b[39m), dtype\u001b[38;5;129;01m=\u001b[39;00m\u001b[38;5;124m\"\u001b[39m\u001b[38;5;124mfloat32\u001b[39m\u001b[38;5;124m\"\u001b[39m)\n",
      "            lv4 \u001b[38;5;129;01m=\u001b[39;00m R\u001b[38;5;129;01m.\u001b[39;00mcall_tir(add1, (lv3, meta[relay\u001b[38;5;129;01m.\u001b[39;00mConstant][\u001b[38;5;28m3\u001b[39m]), (\u001b[38;5;28m1\u001b[39m, \u001b[38;5;28m10\u001b[39m), dtype\u001b[38;5;129;01m=\u001b[39;00m\u001b[38;5;124m\"\u001b[39m\u001b[38;5;124mfloat32\u001b[39m\u001b[38;5;124m\"\u001b[39m)\n",
      "            gv: Tensor((\u001b[38;5;28m1\u001b[39m, \u001b[38;5;28m10\u001b[39m), \u001b[38;5;124m\"\u001b[39m\u001b[38;5;124mfloat32\u001b[39m\u001b[38;5;124m\"\u001b[39m) \u001b[38;5;129;01m=\u001b[39;00m lv4\n",
      "            R\u001b[38;5;129;01m.\u001b[39;00moutput(gv)\n",
      "        \u001b[38;5;28;01mreturn\u001b[39;00m lv4\n",
      "    \n",
      "    \u001b[38;5;129m@T\u001b[39m\u001b[38;5;129;01m.\u001b[39;00mprim_func\n",
      "    \u001b[38;5;28;01mdef\u001b[39;00m \u001b[38;5;21mdense\u001b[39m(rxplaceholder: T\u001b[38;5;129;01m.\u001b[39;00mBuffer[(\u001b[38;5;28m1\u001b[39m, \u001b[38;5;28m784\u001b[39m), \u001b[38;5;124m\"\u001b[39m\u001b[38;5;124mfloat32\u001b[39m\u001b[38;5;124m\"\u001b[39m], rxplaceholder_1: T\u001b[38;5;129;01m.\u001b[39;00mBuffer[(\u001b[38;5;28m128\u001b[39m, \u001b[38;5;28m784\u001b[39m), \u001b[38;5;124m\"\u001b[39m\u001b[38;5;124mfloat32\u001b[39m\u001b[38;5;124m\"\u001b[39m], T_matmul_NT: T\u001b[38;5;129;01m.\u001b[39;00mBuffer[(\u001b[38;5;28m1\u001b[39m, \u001b[38;5;28m128\u001b[39m), \u001b[38;5;124m\"\u001b[39m\u001b[38;5;124mfloat32\u001b[39m\u001b[38;5;124m\"\u001b[39m]) \u001b[38;5;129;01m-\u001b[39;00m\u001b[38;5;129;01m>\u001b[39;00m \u001b[38;5;28;01mNone\u001b[39;00m:\n",
      "        \u001b[38;5;30;03m# function attr dict\u001b[39;00m\n",
      "        T\u001b[38;5;129;01m.\u001b[39;00mfunc_attr({\u001b[38;5;124m\"\u001b[39m\u001b[38;5;124mglobal_symbol\u001b[39m\u001b[38;5;124m\"\u001b[39m: \u001b[38;5;124m\"\u001b[39m\u001b[38;5;124mdense\u001b[39m\u001b[38;5;124m\"\u001b[39m, \u001b[38;5;124m\"\u001b[39m\u001b[38;5;124mtir.noalias\u001b[39m\u001b[38;5;124m\"\u001b[39m: \u001b[38;5;28;01mTrue\u001b[39;00m, \u001b[38;5;124m\"\u001b[39m\u001b[38;5;124mlayout_free_buffers\u001b[39m\u001b[38;5;124m\"\u001b[39m: [\u001b[38;5;28m1\u001b[39m]})\n",
      "        \u001b[38;5;30;03m# body\u001b[39;00m\n",
      "        \u001b[38;5;30;03m# with T.block(\"root\")\u001b[39;00m\n",
      "        \u001b[38;5;28;01mfor\u001b[39;00m i0, i1, i2 \u001b[38;5;28;01min\u001b[39;00m T\u001b[38;5;129;01m.\u001b[39;00mgrid(\u001b[38;5;28m1\u001b[39m, \u001b[38;5;28m128\u001b[39m, \u001b[38;5;28m784\u001b[39m):\n",
      "            \u001b[38;5;28;01mwith\u001b[39;00m T\u001b[38;5;129;01m.\u001b[39;00mblock(\u001b[38;5;124m\"\u001b[39m\u001b[38;5;124mT_matmul_NT\u001b[39m\u001b[38;5;124m\"\u001b[39m):\n",
      "                i, j, k \u001b[38;5;129;01m=\u001b[39;00m T\u001b[38;5;129;01m.\u001b[39;00maxis\u001b[38;5;129;01m.\u001b[39;00mremap(\u001b[38;5;124m\"\u001b[39m\u001b[38;5;124mSSR\u001b[39m\u001b[38;5;124m\"\u001b[39m, [i0, i1, i2])\n",
      "                T\u001b[38;5;129;01m.\u001b[39;00mreads(rxplaceholder[i, k], rxplaceholder_1[j, k])\n",
      "                T\u001b[38;5;129;01m.\u001b[39;00mwrites(T_matmul_NT[i, j])\n",
      "                \u001b[38;5;28;01mwith\u001b[39;00m T\u001b[38;5;129;01m.\u001b[39;00minit():\n",
      "                    T_matmul_NT[i, j] \u001b[38;5;129;01m=\u001b[39;00m T\u001b[38;5;129;01m.\u001b[39;00mfloat32(\u001b[38;5;28m0\u001b[39m)\n",
      "                T_matmul_NT[i, j] \u001b[38;5;129;01m=\u001b[39;00m T_matmul_NT[i, j] \u001b[38;5;129;01m+\u001b[39;00m rxplaceholder[i, k] \u001b[38;5;129;01m*\u001b[39;00m rxplaceholder_1[j, k]\n",
      "    \n",
      "    \u001b[38;5;129m@T\u001b[39m\u001b[38;5;129;01m.\u001b[39;00mprim_func\n",
      "    \u001b[38;5;28;01mdef\u001b[39;00m \u001b[38;5;21mdense1\u001b[39m(rxplaceholder: T\u001b[38;5;129;01m.\u001b[39;00mBuffer[(\u001b[38;5;28m1\u001b[39m, \u001b[38;5;28m128\u001b[39m), \u001b[38;5;124m\"\u001b[39m\u001b[38;5;124mfloat32\u001b[39m\u001b[38;5;124m\"\u001b[39m], rxplaceholder_1: T\u001b[38;5;129;01m.\u001b[39;00mBuffer[(\u001b[38;5;28m10\u001b[39m, \u001b[38;5;28m128\u001b[39m), \u001b[38;5;124m\"\u001b[39m\u001b[38;5;124mfloat32\u001b[39m\u001b[38;5;124m\"\u001b[39m], T_matmul_NT: T\u001b[38;5;129;01m.\u001b[39;00mBuffer[(\u001b[38;5;28m1\u001b[39m, \u001b[38;5;28m10\u001b[39m), \u001b[38;5;124m\"\u001b[39m\u001b[38;5;124mfloat32\u001b[39m\u001b[38;5;124m\"\u001b[39m]) \u001b[38;5;129;01m-\u001b[39;00m\u001b[38;5;129;01m>\u001b[39;00m \u001b[38;5;28;01mNone\u001b[39;00m:\n",
      "        \u001b[38;5;30;03m# function attr dict\u001b[39;00m\n",
      "        T\u001b[38;5;129;01m.\u001b[39;00mfunc_attr({\u001b[38;5;124m\"\u001b[39m\u001b[38;5;124mglobal_symbol\u001b[39m\u001b[38;5;124m\"\u001b[39m: \u001b[38;5;124m\"\u001b[39m\u001b[38;5;124mdense1\u001b[39m\u001b[38;5;124m\"\u001b[39m, \u001b[38;5;124m\"\u001b[39m\u001b[38;5;124mtir.noalias\u001b[39m\u001b[38;5;124m\"\u001b[39m: \u001b[38;5;28;01mTrue\u001b[39;00m, \u001b[38;5;124m\"\u001b[39m\u001b[38;5;124mlayout_free_buffers\u001b[39m\u001b[38;5;124m\"\u001b[39m: [\u001b[38;5;28m1\u001b[39m]})\n",
      "        \u001b[38;5;30;03m# body\u001b[39;00m\n",
      "        \u001b[38;5;30;03m# with T.block(\"root\")\u001b[39;00m\n",
      "        \u001b[38;5;28;01mfor\u001b[39;00m i0, i1, i2 \u001b[38;5;28;01min\u001b[39;00m T\u001b[38;5;129;01m.\u001b[39;00mgrid(\u001b[38;5;28m1\u001b[39m, \u001b[38;5;28m10\u001b[39m, \u001b[38;5;28m128\u001b[39m):\n",
      "            \u001b[38;5;28;01mwith\u001b[39;00m T\u001b[38;5;129;01m.\u001b[39;00mblock(\u001b[38;5;124m\"\u001b[39m\u001b[38;5;124mT_matmul_NT\u001b[39m\u001b[38;5;124m\"\u001b[39m):\n",
      "                i, j, k \u001b[38;5;129;01m=\u001b[39;00m T\u001b[38;5;129;01m.\u001b[39;00maxis\u001b[38;5;129;01m.\u001b[39;00mremap(\u001b[38;5;124m\"\u001b[39m\u001b[38;5;124mSSR\u001b[39m\u001b[38;5;124m\"\u001b[39m, [i0, i1, i2])\n",
      "                T\u001b[38;5;129;01m.\u001b[39;00mreads(rxplaceholder[i, k], rxplaceholder_1[j, k])\n",
      "                T\u001b[38;5;129;01m.\u001b[39;00mwrites(T_matmul_NT[i, j])\n",
      "                \u001b[38;5;28;01mwith\u001b[39;00m T\u001b[38;5;129;01m.\u001b[39;00minit():\n",
      "                    T_matmul_NT[i, j] \u001b[38;5;129;01m=\u001b[39;00m T\u001b[38;5;129;01m.\u001b[39;00mfloat32(\u001b[38;5;28m0\u001b[39m)\n",
      "                T_matmul_NT[i, j] \u001b[38;5;129;01m=\u001b[39;00m T_matmul_NT[i, j] \u001b[38;5;129;01m+\u001b[39;00m rxplaceholder[i, k] \u001b[38;5;129;01m*\u001b[39;00m rxplaceholder_1[j, k]\n",
      "    \n",
      "    \u001b[38;5;129m@T\u001b[39m\u001b[38;5;129;01m.\u001b[39;00mprim_func\n",
      "    \u001b[38;5;28;01mdef\u001b[39;00m \u001b[38;5;21madd\u001b[39m(rxplaceholder: T\u001b[38;5;129;01m.\u001b[39;00mBuffer[(\u001b[38;5;28m1\u001b[39m, \u001b[38;5;28m128\u001b[39m), \u001b[38;5;124m\"\u001b[39m\u001b[38;5;124mfloat32\u001b[39m\u001b[38;5;124m\"\u001b[39m], rxplaceholder_1: T\u001b[38;5;129;01m.\u001b[39;00mBuffer[\u001b[38;5;28m128\u001b[39m, \u001b[38;5;124m\"\u001b[39m\u001b[38;5;124mfloat32\u001b[39m\u001b[38;5;124m\"\u001b[39m], T_add: T\u001b[38;5;129;01m.\u001b[39;00mBuffer[(\u001b[38;5;28m1\u001b[39m, \u001b[38;5;28m128\u001b[39m), \u001b[38;5;124m\"\u001b[39m\u001b[38;5;124mfloat32\u001b[39m\u001b[38;5;124m\"\u001b[39m]) \u001b[38;5;129;01m-\u001b[39;00m\u001b[38;5;129;01m>\u001b[39;00m \u001b[38;5;28;01mNone\u001b[39;00m:\n",
      "        \u001b[38;5;30;03m# function attr dict\u001b[39;00m\n",
      "        T\u001b[38;5;129;01m.\u001b[39;00mfunc_attr({\u001b[38;5;124m\"\u001b[39m\u001b[38;5;124mglobal_symbol\u001b[39m\u001b[38;5;124m\"\u001b[39m: \u001b[38;5;124m\"\u001b[39m\u001b[38;5;124madd\u001b[39m\u001b[38;5;124m\"\u001b[39m, \u001b[38;5;124m\"\u001b[39m\u001b[38;5;124mtir.noalias\u001b[39m\u001b[38;5;124m\"\u001b[39m: \u001b[38;5;28;01mTrue\u001b[39;00m})\n",
      "        \u001b[38;5;30;03m# body\u001b[39;00m\n",
      "        \u001b[38;5;30;03m# with T.block(\"root\")\u001b[39;00m\n",
      "        \u001b[38;5;28;01mfor\u001b[39;00m i0, i1 \u001b[38;5;28;01min\u001b[39;00m T\u001b[38;5;129;01m.\u001b[39;00mgrid(\u001b[38;5;28m1\u001b[39m, \u001b[38;5;28m128\u001b[39m):\n",
      "            \u001b[38;5;28;01mwith\u001b[39;00m T\u001b[38;5;129;01m.\u001b[39;00mblock(\u001b[38;5;124m\"\u001b[39m\u001b[38;5;124mT_add\u001b[39m\u001b[38;5;124m\"\u001b[39m):\n",
      "                ax0, ax1 \u001b[38;5;129;01m=\u001b[39;00m T\u001b[38;5;129;01m.\u001b[39;00maxis\u001b[38;5;129;01m.\u001b[39;00mremap(\u001b[38;5;124m\"\u001b[39m\u001b[38;5;124mSS\u001b[39m\u001b[38;5;124m\"\u001b[39m, [i0, i1])\n",
      "                T\u001b[38;5;129;01m.\u001b[39;00mreads(rxplaceholder[ax0, ax1], rxplaceholder_1[ax1])\n",
      "                T\u001b[38;5;129;01m.\u001b[39;00mwrites(T_add[ax0, ax1])\n",
      "                T_add[ax0, ax1] \u001b[38;5;129;01m=\u001b[39;00m rxplaceholder[ax0, ax1] \u001b[38;5;129;01m+\u001b[39;00m rxplaceholder_1[ax1]\n",
      "    \n",
      "    \u001b[38;5;129m@T\u001b[39m\u001b[38;5;129;01m.\u001b[39;00mprim_func\n",
      "    \u001b[38;5;28;01mdef\u001b[39;00m \u001b[38;5;21madd1\u001b[39m(rxplaceholder: T\u001b[38;5;129;01m.\u001b[39;00mBuffer[(\u001b[38;5;28m1\u001b[39m, \u001b[38;5;28m10\u001b[39m), \u001b[38;5;124m\"\u001b[39m\u001b[38;5;124mfloat32\u001b[39m\u001b[38;5;124m\"\u001b[39m], rxplaceholder_1: T\u001b[38;5;129;01m.\u001b[39;00mBuffer[\u001b[38;5;28m10\u001b[39m, \u001b[38;5;124m\"\u001b[39m\u001b[38;5;124mfloat32\u001b[39m\u001b[38;5;124m\"\u001b[39m], T_add: T\u001b[38;5;129;01m.\u001b[39;00mBuffer[(\u001b[38;5;28m1\u001b[39m, \u001b[38;5;28m10\u001b[39m), \u001b[38;5;124m\"\u001b[39m\u001b[38;5;124mfloat32\u001b[39m\u001b[38;5;124m\"\u001b[39m]) \u001b[38;5;129;01m-\u001b[39;00m\u001b[38;5;129;01m>\u001b[39;00m \u001b[38;5;28;01mNone\u001b[39;00m:\n",
      "        \u001b[38;5;30;03m# function attr dict\u001b[39;00m\n",
      "        T\u001b[38;5;129;01m.\u001b[39;00mfunc_attr({\u001b[38;5;124m\"\u001b[39m\u001b[38;5;124mglobal_symbol\u001b[39m\u001b[38;5;124m\"\u001b[39m: \u001b[38;5;124m\"\u001b[39m\u001b[38;5;124madd1\u001b[39m\u001b[38;5;124m\"\u001b[39m, \u001b[38;5;124m\"\u001b[39m\u001b[38;5;124mtir.noalias\u001b[39m\u001b[38;5;124m\"\u001b[39m: \u001b[38;5;28;01mTrue\u001b[39;00m})\n",
      "        \u001b[38;5;30;03m# body\u001b[39;00m\n",
      "        \u001b[38;5;30;03m# with T.block(\"root\")\u001b[39;00m\n",
      "        \u001b[38;5;28;01mfor\u001b[39;00m i0, i1 \u001b[38;5;28;01min\u001b[39;00m T\u001b[38;5;129;01m.\u001b[39;00mgrid(\u001b[38;5;28m1\u001b[39m, \u001b[38;5;28m10\u001b[39m):\n",
      "            \u001b[38;5;28;01mwith\u001b[39;00m T\u001b[38;5;129;01m.\u001b[39;00mblock(\u001b[38;5;124m\"\u001b[39m\u001b[38;5;124mT_add\u001b[39m\u001b[38;5;124m\"\u001b[39m):\n",
      "                ax0, ax1 \u001b[38;5;129;01m=\u001b[39;00m T\u001b[38;5;129;01m.\u001b[39;00maxis\u001b[38;5;129;01m.\u001b[39;00mremap(\u001b[38;5;124m\"\u001b[39m\u001b[38;5;124mSS\u001b[39m\u001b[38;5;124m\"\u001b[39m, [i0, i1])\n",
      "                T\u001b[38;5;129;01m.\u001b[39;00mreads(rxplaceholder[ax0, ax1], rxplaceholder_1[ax1])\n",
      "                T\u001b[38;5;129;01m.\u001b[39;00mwrites(T_add[ax0, ax1])\n",
      "                T_add[ax0, ax1] \u001b[38;5;129;01m=\u001b[39;00m rxplaceholder[ax0, ax1] \u001b[38;5;129;01m+\u001b[39;00m rxplaceholder_1[ax1]\n",
      "    \n",
      "\n"
     ]
    }
   ],
   "source": [
    "from tvm import topi\n",
    "\n",
    "def map_nn_linear(bb, node_map, node, nn_mod):\n",
    "    x = node_map[node.args[0]]   # input\n",
    "    w = map_param(nn_mod.weight) # weight\n",
    "    if nn_mod.bias is not None:\n",
    "        b = map_param(nn_mod.bias) # bias\n",
    "    y = bb.emit_te(topi.nn.dense, x, w)\n",
    "    return bb.emit_te(topi.add, y, b)\n",
    "\n",
    "def map_nn_relu(bb, node_map, node, nn_mod):\n",
    "    return map_relu(bb, node_map, node)\n",
    "\n",
    "\n",
    "MLPModule = from_fx(\n",
    "    fx.symbolic_trace(mlp_model),\n",
    "    input_shapes = [(1, 784)],\n",
    "    call_function_map={\n",
    "    },\n",
    "    call_module_map={\n",
    "        torch.nn.Linear: map_nn_linear,\n",
    "        torch.nn.ReLU: map_nn_relu,\n",
    "    },\n",
    ")\n",
    "\n",
    "MLPModule.show()"
   ]
  },
  {
   "cell_type": "code",
   "execution_count": 36,
   "metadata": {},
   "outputs": [
    {
     "name": "stdout",
     "output_type": "stream",
     "text": [
      "MLPModule Prediction: Ankle boot\n"
     ]
    }
   ],
   "source": [
    "ex = relax.vm.build(MLPModule, target=\"llvm\")\n",
    "vm = relax.VirtualMachine(ex, tvm.cpu())\n",
    "data_nd = tvm.nd.array(img.reshape(1, 784))\n",
    "\n",
    "nd_res = vm[\"main\"](data_nd)\n",
    "\n",
    "pred_kind = np.argmax(nd_res.numpy(), axis=1)\n",
    "print(\"MLPModule Prediction:\", class_names[pred_kind[0]])"
   ]
  },
  {
   "cell_type": "markdown",
   "metadata": {},
   "source": [
    "## 备注：翻译成高层算子\n",
    "\n",
    "在大多数机器学习框架中，有时先转换为更高一级的内置的原始算子会更有帮助。下面的代码块给出了一个例子来做到这一点。\n"
   ]
  },
  {
   "cell_type": "code",
   "execution_count": 37,
   "metadata": {},
   "outputs": [
    {
     "name": "stdout",
     "output_type": "stream",
     "text": [
      "\u001b[38;5;129m@tvm\u001b[39m\u001b[38;5;129;01m.\u001b[39;00mscript\u001b[38;5;129;01m.\u001b[39;00mir_module\n",
      "\u001b[38;5;28;01mclass\u001b[39;00m \u001b[38;5;21;01mModule\u001b[39;00m:\n",
      "    \u001b[38;5;129m@R\u001b[39m\u001b[38;5;129;01m.\u001b[39;00mfunction\n",
      "    \u001b[38;5;28;01mdef\u001b[39;00m \u001b[38;5;21mmain\u001b[39m(x: Tensor((\u001b[38;5;28m1\u001b[39m, \u001b[38;5;28m784\u001b[39m), \u001b[38;5;124m\"\u001b[39m\u001b[38;5;124mfloat32\u001b[39m\u001b[38;5;124m\"\u001b[39m)) \u001b[38;5;129;01m-\u001b[39;00m\u001b[38;5;129;01m>\u001b[39;00m Tensor(\u001b[38;5;28;01mNone\u001b[39;00m, \u001b[38;5;124m\"\u001b[39m\u001b[38;5;124mfloat32\u001b[39m\u001b[38;5;124m\"\u001b[39m, ndim \u001b[38;5;129;01m=\u001b[39;00m \u001b[38;5;28m2\u001b[39m):\n",
      "        \u001b[38;5;30;03m# block 0\u001b[39;00m\n",
      "        \u001b[38;5;28;01mwith\u001b[39;00m R\u001b[38;5;129;01m.\u001b[39;00mdataflow():\n",
      "            lv: Tensor((\u001b[38;5;28m1\u001b[39m, \u001b[38;5;28m128\u001b[39m), \u001b[38;5;124m\"\u001b[39m\u001b[38;5;124mfloat32\u001b[39m\u001b[38;5;124m\"\u001b[39m) \u001b[38;5;129;01m=\u001b[39;00m relax\u001b[38;5;129;01m.\u001b[39;00mnn\u001b[38;5;129;01m.\u001b[39;00mdense(x, meta[relay\u001b[38;5;129;01m.\u001b[39;00mConstant][\u001b[38;5;28m0\u001b[39m])\n",
      "            lv1: Tensor((\u001b[38;5;28m1\u001b[39m, \u001b[38;5;28m128\u001b[39m), \u001b[38;5;124m\"\u001b[39m\u001b[38;5;124mfloat32\u001b[39m\u001b[38;5;124m\"\u001b[39m) \u001b[38;5;129;01m=\u001b[39;00m relax\u001b[38;5;129;01m.\u001b[39;00madd(lv, meta[relay\u001b[38;5;129;01m.\u001b[39;00mConstant][\u001b[38;5;28m1\u001b[39m])\n",
      "            lv2: Tensor((\u001b[38;5;28m1\u001b[39m, \u001b[38;5;28m128\u001b[39m), \u001b[38;5;124m\"\u001b[39m\u001b[38;5;124mfloat32\u001b[39m\u001b[38;5;124m\"\u001b[39m) \u001b[38;5;129;01m=\u001b[39;00m relax\u001b[38;5;129;01m.\u001b[39;00mnn\u001b[38;5;129;01m.\u001b[39;00mrelu(lv1)\n",
      "            lv3: Tensor((\u001b[38;5;28m1\u001b[39m, \u001b[38;5;28m10\u001b[39m), \u001b[38;5;124m\"\u001b[39m\u001b[38;5;124mfloat32\u001b[39m\u001b[38;5;124m\"\u001b[39m) \u001b[38;5;129;01m=\u001b[39;00m relax\u001b[38;5;129;01m.\u001b[39;00mnn\u001b[38;5;129;01m.\u001b[39;00mdense(lv2, meta[relay\u001b[38;5;129;01m.\u001b[39;00mConstant][\u001b[38;5;28m2\u001b[39m])\n",
      "            lv4: Tensor((\u001b[38;5;28m1\u001b[39m, \u001b[38;5;28m10\u001b[39m), \u001b[38;5;124m\"\u001b[39m\u001b[38;5;124mfloat32\u001b[39m\u001b[38;5;124m\"\u001b[39m) \u001b[38;5;129;01m=\u001b[39;00m relax\u001b[38;5;129;01m.\u001b[39;00madd(lv3, meta[relay\u001b[38;5;129;01m.\u001b[39;00mConstant][\u001b[38;5;28m3\u001b[39m])\n",
      "            gv: Tensor((\u001b[38;5;28m1\u001b[39m, \u001b[38;5;28m10\u001b[39m), \u001b[38;5;124m\"\u001b[39m\u001b[38;5;124mfloat32\u001b[39m\u001b[38;5;124m\"\u001b[39m) \u001b[38;5;129;01m=\u001b[39;00m lv4\n",
      "            R\u001b[38;5;129;01m.\u001b[39;00moutput(gv)\n",
      "        \u001b[38;5;28;01mreturn\u001b[39;00m lv4\n",
      "    \n",
      "\n"
     ]
    }
   ],
   "source": [
    "def map_nn_relu_op(bb, node_map, node, nn_mod):\n",
    "    A = node_map[node.args[0]]\n",
    "    return bb.emit(relax.op.relu(A))\n",
    "\n",
    "def map_nn_linear_op(bb, node_map, node, nn_mod):\n",
    "    x = node_map[node.args[0]]\n",
    "    w = map_param(nn_mod.weight)\n",
    "    if nn_mod.bias is not None:\n",
    "        b = map_param(nn_mod.bias)\n",
    "    y = bb.emit(relax.op.dense(x, w))\n",
    "    return bb.emit(relax.op.add(y, b))\n",
    "\n",
    "MLPModuleHighLevel = from_fx(\n",
    "    fx.symbolic_trace(mlp_model),\n",
    "    input_shapes = [(1, 784)],\n",
    "    call_function_map={\n",
    "    },\n",
    "    call_module_map={\n",
    "        torch.nn.Linear: map_nn_linear_op,\n",
    "        torch.nn.ReLU: map_nn_relu_op,\n",
    "    },\n",
    ")\n",
    "\n",
    "MLPModuleHighLevel.show()"
   ]
  },
  {
   "cell_type": "markdown",
   "metadata": {},
   "source": [
    "上面展示了我们使用那些内置的算子将模型导入为 IRModule 后的结果。这些内置算子是 **比 TensorIR 函数更高级别的抽象**。我们可以有不同的机会将这些原始算子进一步转换为库函数或 TensorIR 函数。\n",
    "\n",
    "在大多数情况下，在有高级算子支持的情况下，转换为高级内置函数会很有帮助。但是，有很多情况下我们找不到对应的高级内置算子或者想直接指定 TensorIR 函数。 在这些情况下，我们可以自定义翻译逻辑或变换从而生成 `call_tir` 或调用库函数。 通常，我们可以结合高级操作、TensorIR 和库抽象来获得最佳结果。 我们将在后续章节中讨论权衡取舍。\n",
    "\n",
    "## 讨论\n",
    "\n",
    "在本章中，我们重点关注了 MLC 流程的 **开发** 部分。 我们研究了从机器学习框架中获取模型到 IRModule 的不同方法。 我们还简要介绍了高级原始运算符。\n",
    "\n",
    "一旦我们将模型放入 IRModule 中，我们就可以在原始函数和计算图函数上引入更多种类的变换。一个好的 MLC 流程将这些转换组合在一起，形成最终部署形式。\n",
    "\n",
    "![](../img/mlc_process.png)\n",
    "\n",
    "## 总结\n",
    "\n",
    "- 张量表达式 API 允许我们创建原始的 TensorIR 函数。\n",
    "- BlockBuilder API 通过 `emit_te` 和其他函数创建 IRModule。\n",
    "- 通过将模型转换为 IRModule，实现与现有的机器学习框架的整合。\n"
   ]
  }
 ],
 "metadata": {
  "kernelspec": {
   "display_name": "Python 3.10.0 ('py310')",
   "language": "python",
   "name": "python3"
  },
  "language_info": {
   "codemirror_mode": {
    "name": "ipython",
    "version": 3
   },
   "file_extension": ".py",
   "mimetype": "text/x-python",
   "name": "python",
   "nbconvert_exporter": "python",
   "pygments_lexer": "ipython3",
   "version": "3.10.0"
  },
  "orig_nbformat": 4,
  "vscode": {
   "interpreter": {
    "hash": "112f2400822ae511bbb04110fbb03a33a7733e1b8a027d7811767108b2f677cd"
   }
  }
 },
 "nbformat": 4,
 "nbformat_minor": 2
}
